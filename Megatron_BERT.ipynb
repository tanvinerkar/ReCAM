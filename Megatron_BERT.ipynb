{
  "nbformat": 4,
  "nbformat_minor": 0,
  "metadata": {
    "colab": {
      "name": "Megatron-BERT-Task1.ipynb",
      "provenance": []
    },
    "kernelspec": {
      "name": "python3",
      "display_name": "Python 3"
    },
    "accelerator": "GPU"
  },
  "cells": [
    {
      "cell_type": "code",
      "metadata": {
        "id": "x1QIlqWrWqaM"
      },
      "source": [
        "# !wget --content-disposition https://api.ngc.nvidia.com/v2/models/nvidia/megatron_bert_345m/versions/v0.1_cased/zip -O megatron_bert_345m_v0.1_cased.zip"
      ],
      "execution_count": null,
      "outputs": []
    },
    {
      "cell_type": "code",
      "metadata": {
        "id": "fmAX9BypWqpt"
      },
      "source": [
        "# !unzip \"megatron_bert_345m_v0.1_cased.zip\" #-d \"drive/My Drive/recam/megatron_bert\""
      ],
      "execution_count": null,
      "outputs": []
    },
    {
      "cell_type": "code",
      "metadata": {
        "id": "o__zcvxxWq5G"
      },
      "source": [
        "!wget https://s3.amazonaws.com/models.huggingface.co/bert/bert-large-uncased-vocab.txt"
      ],
      "execution_count": null,
      "outputs": []
    },
    {
      "cell_type": "code",
      "metadata": {
        "id": "uAGcy6f6dJRS"
      },
      "source": [
        "# !mv \"bert-large-uncased-vocab.txt\" \"drive/My Drive/recam/megatron_bert\""
      ],
      "execution_count": null,
      "outputs": []
    },
    {
      "cell_type": "code",
      "metadata": {
        "id": "YFVvCDwqWrAb"
      },
      "source": [
        "# !mv \"Megatron-LM\" \"drive/My Drive/recam/megatron_bert\""
      ],
      "execution_count": null,
      "outputs": []
    },
    {
      "cell_type": "code",
      "metadata": {
        "id": "ll6UGRMuZunH"
      },
      "source": [
        "!nvidia-smi"
      ],
      "execution_count": null,
      "outputs": []
    },
    {
      "cell_type": "code",
      "metadata": {
        "id": "dPk6DoL1Z0Yl"
      },
      "source": [
        "# pip install torch==1.6.0+cu101 torchvision==0.7.0+cu101 -f https://download.pytorch.org/whl/torch_stable.html"
      ],
      "execution_count": null,
      "outputs": []
    },
    {
      "cell_type": "code",
      "metadata": {
        "id": "q_gKIIQeXk-4"
      },
      "source": [
        "!git clone https://github.com/NVIDIA/apex\n",
        "%cd apex\n",
        "!pip install -v --no-cache-dir --global-option=\"--cpp_ext\" --global-option=\"--cuda_ext\" ./\n",
        "%cd .."
      ],
      "execution_count": null,
      "outputs": []
    },
    {
      "cell_type": "code",
      "metadata": {
        "id": "sx7M99IEatCp"
      },
      "source": [
        "# %cd ..\n",
        "# !git clone https://github.com/NVIDIA/Megatron-LM"
      ],
      "execution_count": null,
      "outputs": []
    },
    {
      "cell_type": "code",
      "metadata": {
        "id": "PaJe7-ZJGkfw"
      },
      "source": [
        "!cp -r /content/drive/My\\ Drive/files ."
      ],
      "execution_count": null,
      "outputs": []
    },
    {
      "cell_type": "code",
      "metadata": {
        "id": "zfxfaSSzg-Zd"
      },
      "source": [
        "# !cp -r drive/My\\ Drive/files_uncased/ ."
      ],
      "execution_count": null,
      "outputs": []
    },
    {
      "cell_type": "code",
      "metadata": {
        "id": "S8l2Jj_VOKrx"
      },
      "source": [
        "# !rm -rf Megatron-LM"
      ],
      "execution_count": null,
      "outputs": []
    },
    {
      "cell_type": "code",
      "metadata": {
        "id": "i0N08ba017tK"
      },
      "source": [
        "!cp -r drive/My\\ Drive/data2 ."
      ],
      "execution_count": null,
      "outputs": []
    },
    {
      "cell_type": "code",
      "metadata": {
        "id": "xx8uaoEbOsMV"
      },
      "source": [
        "!cp -r drive/My\\ Drive/recam/megatron_bert/Megatron-LM ."
      ],
      "execution_count": null,
      "outputs": []
    },
    {
      "cell_type": "code",
      "metadata": {
        "id": "3sqNSYgGWrGS"
      },
      "source": [
        "# # TRAIN_DATA=\"data/RACE/train/middle\"\n",
        "# TRAIN_DATA = \"drive/My Drive/recam/data/Task1/train\"\n",
        "# # VALID_DATA=\"data/RACE/dev/middle \\\n",
        "#             # data/RACE/dev/high\"\n",
        "# VALID_DATA = \"drive/My Drive/recam/data/Task1/dev\"\n",
        "# VOCAB_FILE=\"drive/My Drive/recam/megatron_bert/bert-large-uncased-vocab.txt\"\n",
        "# PRETRAINED_CHECKPOINT=\"drive/My Drive/recam/megatron_bert/release/mp_rank_00/model_optim_rng.pt\"\n",
        "# CHECKPOINT_PATH=\"drive/My Drive/recam/megatron_bert/trained_checkpoint\"\n",
        "# COMMON_TASK_ARGS=\"--num-layers 24 \\\n",
        "#                   --hidden-size 1024 \\\n",
        "#                   --num-attention-heads 16 \\\n",
        "#                   --seq-length 512 \\\n",
        "#                   --max-position-embeddings 512 \\\n",
        "#                   --fp16 \\\n",
        "#                   --vocab-file $VOCAB_FILE\"\n",
        "\n",
        "# COMMON_TASK_ARGS_EXT=\"--train-data $TRAIN_DATA \\\n",
        "#                       --valid-data $VALID_DATA \\\n",
        "#                       --pretrained-checkpoint $PRETRAINED_CHECKPOINT \\\n",
        "#                       --checkpoint-activations \\\n",
        "#                       --save-interval 10000 \\\n",
        "#                       --save $CHECKPOINT_PATH \\\n",
        "#                       --log-interval 100 \\\n",
        "#                       --eval-interval 1000 \\\n",
        "#                       --eval-iters 10 \\\n",
        "#                       --weight-decay 1.0e-1\"\n",
        "\n"
      ],
      "execution_count": null,
      "outputs": []
    },
    {
      "cell_type": "code",
      "metadata": {
        "id": "_iHbgTo-WrMS"
      },
      "source": [
        "!python Megatron-LM/tasks/main.py \\\n",
        "        --task RACE \\\n",
        "        --tokenizer-type BertWordPieceLowerCase \\\n",
        "        --num-layers 24 \\\n",
        "        --hidden-size 1024 \\\n",
        "        --num-attention-heads 16 \\\n",
        "        --seq-length 1024 \\\n",
        "        --max-position-embeddings 1024 \\\n",
        "        --fp16 \\\n",
        "        --vocab-file bert-large-uncased-vocab.txt \\\n",
        "        --train-data data2/Task1/train \\\n",
        "        --valid-data data2/Task1/dev \\\n",
        "        --pretrained-checkpoint . \\\n",
        "        --checkpoint-activations \\\n",
        "        --save-interval 10000 \\\n",
        "        --save files/trained_checkpoint \\\n",
        "        --log-interval 100 \\\n",
        "        --eval-interval 1000 \\\n",
        "        --eval-iters 10 \\\n",
        "        --weight-decay 1.0e-1 \\\n",
        "        --epochs 3 \\\n",
        "        --batch-size 4 \\\n",
        "        --lr 1.0e-5 \\\n",
        "        --warmup 0.06"
      ],
      "execution_count": null,
      "outputs": []
    },
    {
      "cell_type": "code",
      "metadata": {
        "id": "lr3yRMWeac8P"
      },
      "source": [
        ""
      ],
      "execution_count": null,
      "outputs": []
    },
    {
      "cell_type": "markdown",
      "metadata": {
        "id": "EAJVfkkVVSJY"
      },
      "source": [
        ""
      ]
    },
    {
      "cell_type": "code",
      "metadata": {
        "id": "VDPKGwY-WrR-"
      },
      "source": [
        ""
      ],
      "execution_count": null,
      "outputs": []
    }
  ]
}