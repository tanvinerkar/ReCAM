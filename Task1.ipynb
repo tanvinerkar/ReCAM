{
  "nbformat": 4,
  "nbformat_minor": 0,
  "metadata": {
    "colab": {
      "name": "Group3-Task1.ipynb",
      "provenance": [],
      "include_colab_link": true
    },
    "kernelspec": {
      "name": "python3",
      "display_name": "Python 3"
    },
    "accelerator": "GPU"
  },
  "cells": [
    {
      "cell_type": "markdown",
      "metadata": {
        "id": "view-in-github",
        "colab_type": "text"
      },
      "source": [
        "<a href=\"https://colab.research.google.com/github/tanvinerkar/ReCAM/blob/master/Task1.ipynb\" target=\"_parent\"><img src=\"https://colab.research.google.com/assets/colab-badge.svg\" alt=\"Open In Colab\"/></a>"
      ]
    },
    {
      "cell_type": "markdown",
      "metadata": {
        "id": "__uwfnX8eBmI"
      },
      "source": [
        "# Set Up"
      ]
    },
    {
      "cell_type": "markdown",
      "metadata": {
        "id": "OVTX-D4geI5B"
      },
      "source": [
        "Creating run_mlm.py file to train data\n",
        "\n",
        "Credits: https://github.com/huggingface/transformers/blob/master/examples/language-modeling/run_mlm.py"
      ]
    },
    {
      "cell_type": "code",
      "metadata": {
        "id": "zHVjzNvYE6bM"
      },
      "source": [
        "s='''# coding=utf-8\n",
        "# Copyright 2020 The HuggingFace Team All rights reserved.\n",
        "#\n",
        "# Licensed under the Apache License, Version 2.0 (the \"License\");\n",
        "# you may not use this file except in compliance with the License.\n",
        "# You may obtain a copy of the License at\n",
        "#\n",
        "#     http://www.apache.org/licenses/LICENSE-2.0\n",
        "#\n",
        "# Unless required by applicable law or agreed to in writing, software\n",
        "# distributed under the License is distributed on an \"AS IS\" BASIS,\n",
        "# WITHOUT WARRANTIES OR CONDITIONS OF ANY KIND, either express or implied.\n",
        "# See the License for the specific language governing permissions and\n",
        "# limitations under the License.\n",
        "\"\"\"\n",
        "Fine-tuning the library models for masked language modeling (BERT, ALBERT, RoBERTa...) on a text file or a dataset.\n",
        "Here is the full list of checkpoints on the hub that can be fine-tuned by this script:\n",
        "https://huggingface.co/models?filter=masked-lm\n",
        "\"\"\"\n",
        "# You can also adapt this script on your own masked language modeling task. Pointers for this are left as comments.\n",
        "\n",
        "import logging\n",
        "import math\n",
        "import os\n",
        "import sys\n",
        "from dataclasses import dataclass, field\n",
        "from typing import Optional\n",
        "from sklearn.metrics import accuracy_score\n",
        "\n",
        "from datasets import load_dataset\n",
        "\n",
        "import transformers\n",
        "from transformers import (\n",
        "    CONFIG_MAPPING,\n",
        "    MODEL_FOR_MASKED_LM_MAPPING,\n",
        "    AutoConfig,\n",
        "    AutoModelForMaskedLM,\n",
        "    AutoTokenizer,\n",
        "    DataCollatorForLanguageModeling,\n",
        "    HfArgumentParser,\n",
        "    Trainer,\n",
        "    TrainingArguments,\n",
        "    set_seed,\n",
        ")\n",
        "from transformers.trainer_utils import is_main_process\n",
        "\n",
        "\n",
        "logger = logging.getLogger(__name__)\n",
        "MODEL_CONFIG_CLASSES = list(MODEL_FOR_MASKED_LM_MAPPING.keys())\n",
        "MODEL_TYPES = tuple(conf.model_type for conf in MODEL_CONFIG_CLASSES)\n",
        "\n",
        "def compute_metrics(pred):\n",
        "    labels = pred.label_ids\n",
        "    preds = pred.predictions.argmax(-1)\n",
        "    acc = accuracy_score(labels, preds)\n",
        "    return {\n",
        "        'accuracy': acc\n",
        "    }\n",
        "\n",
        "\n",
        "@dataclass\n",
        "class ModelArguments:\n",
        "    \"\"\"\n",
        "    Arguments pertaining to which model/config/tokenizer we are going to fine-tune, or train from scratch.\n",
        "    \"\"\"\n",
        "\n",
        "    model_name_or_path: Optional[str] = field(\n",
        "        default=None,\n",
        "        metadata={\n",
        "            \"help\": \"The model checkpoint for weights initialization.\"\n",
        "            \"Don't set if you want to train a model from scratch.\"\n",
        "        },\n",
        "    )\n",
        "    model_type: Optional[str] = field(\n",
        "        default=None,\n",
        "        metadata={\"help\": \"If training from scratch, pass a model type from the list: \" + \", \".join(MODEL_TYPES)},\n",
        "    )\n",
        "    config_name: Optional[str] = field(\n",
        "        default=None, metadata={\"help\": \"Pretrained config name or path if not the same as model_name\"}\n",
        "    )\n",
        "    tokenizer_name: Optional[str] = field(\n",
        "        default=None, metadata={\"help\": \"Pretrained tokenizer name or path if not the same as model_name\"}\n",
        "    )\n",
        "    cache_dir: Optional[str] = field(\n",
        "        default=None,\n",
        "        metadata={\"help\": \"Where do you want to store the pretrained models downloaded from huggingface.co\"},\n",
        "    )\n",
        "    use_fast_tokenizer: bool = field(\n",
        "        default=True,\n",
        "        metadata={\"help\": \"Whether to use one of the fast tokenizer (backed by the tokenizers library) or not.\"},\n",
        "    )\n",
        "\n",
        "\n",
        "@dataclass\n",
        "class DataTrainingArguments:\n",
        "    \"\"\"\n",
        "    Arguments pertaining to what data we are going to input our model for training and eval.\n",
        "    \"\"\"\n",
        "\n",
        "    dataset_name: Optional[str] = field(\n",
        "        default=None, metadata={\"help\": \"The name of the dataset to use (via the datasets library).\"}\n",
        "    )\n",
        "    dataset_config_name: Optional[str] = field(\n",
        "        default=None, metadata={\"help\": \"The configuration name of the dataset to use (via the datasets library).\"}\n",
        "    )\n",
        "    train_file: Optional[str] = field(default=None, metadata={\"help\": \"The input training data file (a text file).\"})\n",
        "    validation_file: Optional[str] = field(\n",
        "        default=None,\n",
        "        metadata={\"help\": \"An optional input evaluation data file to evaluate the perplexity on (a text file).\"},\n",
        "    )\n",
        "    overwrite_cache: bool = field(\n",
        "        default=False, metadata={\"help\": \"Overwrite the cached training and evaluation sets\"}\n",
        "    )\n",
        "    max_seq_length: Optional[int] = field(\n",
        "        default=None,\n",
        "        metadata={\n",
        "            \"help\": \"The maximum total input sequence length after tokenization. Sequences longer \"\n",
        "            \"than this will be truncated.\"\n",
        "        },\n",
        "    )\n",
        "    preprocessing_num_workers: Optional[int] = field(\n",
        "        default=None,\n",
        "        metadata={\"help\": \"The number of processes to use for the preprocessing.\"},\n",
        "    )\n",
        "    mlm_probability: float = field(\n",
        "        default=0.15, metadata={\"help\": \"Ratio of tokens to mask for masked language modeling loss\"}\n",
        "    )\n",
        "    line_by_line: bool = field(\n",
        "        default=False,\n",
        "        metadata={\"help\": \"Whether distinct lines of text in the dataset are to be handled as distinct sequences.\"},\n",
        "    )\n",
        "    pad_to_max_length: bool = field(\n",
        "        default=False,\n",
        "        metadata={\n",
        "            \"help\": \"Whether to pad all samples to `max_seq_length`. \"\n",
        "            \"If False, will pad the samples dynamically when batching to the maximum length in the batch.\"\n",
        "        },\n",
        "    )\n",
        "\n",
        "    def __post_init__(self):\n",
        "        if self.dataset_name is None and self.train_file is None and self.validation_file is None:\n",
        "            raise ValueError(\"Need either a dataset name or a training/validation file.\")\n",
        "        else:\n",
        "            if self.train_file is not None:\n",
        "                extension = self.train_file.split(\".\")[-1]\n",
        "                assert extension in [\"csv\", \"json\", \"txt\"], \"`train_file` should be a csv, a json or a txt file.\"\n",
        "            if self.validation_file is not None:\n",
        "                extension = self.validation_file.split(\".\")[-1]\n",
        "                assert extension in [\"csv\", \"json\", \"txt\"], \"`validation_file` should be a csv, a json or a txt file.\"\n",
        "\n",
        "\n",
        "def main():\n",
        "    # See all possible arguments in src/transformers/training_args.py\n",
        "    # or by passing the --help flag to this script.\n",
        "    # We now keep distinct sets of args, for a cleaner separation of concerns.\n",
        "\n",
        "    parser = HfArgumentParser((ModelArguments, DataTrainingArguments, TrainingArguments))\n",
        "    if len(sys.argv) == 2 and sys.argv[1].endswith(\".json\"):\n",
        "        # If we pass only one argument to the script and it's the path to a json file,\n",
        "        # let's parse it to get our arguments.\n",
        "        model_args, data_args, training_args = parser.parse_json_file(json_file=os.path.abspath(sys.argv[1]))\n",
        "    else:\n",
        "        model_args, data_args, training_args = parser.parse_args_into_dataclasses()\n",
        "\n",
        "    if (\n",
        "        os.path.exists(training_args.output_dir)\n",
        "        and os.listdir(training_args.output_dir)\n",
        "        and training_args.do_train\n",
        "        and not training_args.overwrite_output_dir\n",
        "    ):\n",
        "        raise ValueError(\n",
        "            f\"Output directory ({training_args.output_dir}) already exists and is not empty.\"\n",
        "            \"Use --overwrite_output_dir to overcome.\"\n",
        "        )\n",
        "\n",
        "    # Setup logging\n",
        "    logging.basicConfig(\n",
        "        format=\"%(asctime)s - %(levelname)s - %(name)s -   %(message)s\",\n",
        "        datefmt=\"%m/%d/%Y %H:%M:%S\",\n",
        "        level=logging.INFO if is_main_process(training_args.local_rank) else logging.WARN,\n",
        "    )\n",
        "\n",
        "    # Log on each process the small summary:\n",
        "    logger.warning(\n",
        "        f\"Process rank: {training_args.local_rank}, device: {training_args.device}, n_gpu: {training_args.n_gpu}\"\n",
        "        + f\"distributed training: {bool(training_args.local_rank != -1)}, 16-bits training: {training_args.fp16}\"\n",
        "    )\n",
        "    # Set the verbosity to info of the Transformers logger (on main process only):\n",
        "    if is_main_process(training_args.local_rank):\n",
        "        transformers.utils.logging.set_verbosity_info()\n",
        "        transformers.utils.logging.enable_default_handler()\n",
        "        transformers.utils.logging.enable_explicit_format()\n",
        "    logger.info(\"Training/evaluation parameters %s\", training_args)\n",
        "\n",
        "    # Set seed before initializing model.\n",
        "    set_seed(training_args.seed)\n",
        "\n",
        "    # Get the datasets: you can either provide your own CSV/JSON/TXT training and evaluation files (see below)\n",
        "    # or just provide the name of one of the public datasets available on the hub at https://huggingface.co/datasets/\n",
        "    # (the dataset will be downloaded automatically from the datasets Hub\n",
        "    #\n",
        "    # For CSV/JSON files, this script will use the column called 'text' or the first column. You can easily tweak this\n",
        "    # behavior (see below)\n",
        "    #\n",
        "    # In distributed training, the load_dataset function guarantee that only one local process can concurrently\n",
        "    # download the dataset.\n",
        "    if data_args.dataset_name is not None:\n",
        "        # Downloading and loading a dataset from the hub.\n",
        "        datasets = load_dataset(data_args.dataset_name, data_args.dataset_config_name)\n",
        "    else:\n",
        "        data_files = {}\n",
        "        if data_args.train_file is not None:\n",
        "            data_files[\"train\"] = data_args.train_file\n",
        "        if data_args.validation_file is not None:\n",
        "            data_files[\"validation\"] = data_args.validation_file\n",
        "        extension = data_args.train_file.split(\".\")[-1]\n",
        "        if extension == \"txt\":\n",
        "            extension = \"text\"\n",
        "        datasets = load_dataset(extension, data_files=data_files)\n",
        "    # See more about loading any type of standard or custom dataset (from files, python dict, pandas DataFrame, etc) at\n",
        "    # https://huggingface.co/docs/datasets/loading_datasets.html.\n",
        "\n",
        "    # Load pretrained model and tokenizer\n",
        "    #\n",
        "    # Distributed training:\n",
        "    # The .from_pretrained methods guarantee that only one local process can concurrently\n",
        "    # download model & vocab.\n",
        "    if model_args.config_name:\n",
        "        config = AutoConfig.from_pretrained(model_args.config_name, cache_dir=model_args.cache_dir)\n",
        "    elif model_args.model_name_or_path:\n",
        "        config = AutoConfig.from_pretrained(model_args.model_name_or_path, cache_dir=model_args.cache_dir)\n",
        "    else:\n",
        "        config = CONFIG_MAPPING[model_args.model_type]()\n",
        "        logger.warning(\"You are instantiating a new config instance from scratch.\")\n",
        "\n",
        "    if model_args.tokenizer_name:\n",
        "        tokenizer = AutoTokenizer.from_pretrained(\n",
        "            model_args.tokenizer_name, cache_dir=model_args.cache_dir, use_fast=model_args.use_fast_tokenizer\n",
        "        )\n",
        "    elif model_args.model_name_or_path:\n",
        "        tokenizer = AutoTokenizer.from_pretrained(\n",
        "            model_args.model_name_or_path, cache_dir=model_args.cache_dir, use_fast=model_args.use_fast_tokenizer\n",
        "        )\n",
        "    else:\n",
        "        raise ValueError(\n",
        "            \"You are instantiating a new tokenizer from scratch. This is not supported by this script.\"\n",
        "            \"You can do it from another script, save it, and load it from here, using --tokenizer_name.\"\n",
        "        )\n",
        "\n",
        "    if model_args.model_name_or_path:\n",
        "        model = AutoModelForMaskedLM.from_pretrained(\n",
        "            model_args.model_name_or_path,\n",
        "            from_tf=bool(\".ckpt\" in model_args.model_name_or_path),\n",
        "            config=config,\n",
        "            cache_dir=model_args.cache_dir,\n",
        "        )\n",
        "    else:\n",
        "        logger.info(\"Training new model from scratch\")\n",
        "        model = AutoModelForMaskedLM.from_config(config)\n",
        "\n",
        "    model.resize_token_embeddings(len(tokenizer))\n",
        "\n",
        "    # Preprocessing the datasets.\n",
        "    # First we tokenize all the texts.\n",
        "    if training_args.do_train:\n",
        "        column_names = datasets[\"train\"].column_names\n",
        "    else:\n",
        "        column_names = datasets[\"validation\"].column_names\n",
        "    text_column_name = \"text\" if \"text\" in column_names else column_names[0]\n",
        "\n",
        "    if data_args.line_by_line:\n",
        "        # When using line_by_line, we just tokenize each nonempty line.\n",
        "        padding = \"max_length\" if data_args.pad_to_max_length else False\n",
        "\n",
        "        def tokenize_function(examples):\n",
        "            # Remove empty lines\n",
        "            examples[\"text\"] = [line for line in examples[\"text\"] if len(line) > 0 and not line.isspace()]\n",
        "            return tokenizer(\n",
        "                examples[\"text\"],\n",
        "                padding=padding,\n",
        "                truncation=True,\n",
        "                max_length=data_args.max_seq_length,\n",
        "                # We use this option because DataCollatorForLanguageModeling (see below) is more efficient when it\n",
        "                # receives the `special_tokens_mask`.\n",
        "                return_special_tokens_mask=True,\n",
        "            )\n",
        "\n",
        "        tokenized_datasets = datasets.map(\n",
        "            tokenize_function,\n",
        "            batched=True,\n",
        "            num_proc=data_args.preprocessing_num_workers,\n",
        "            remove_columns=[text_column_name],\n",
        "            load_from_cache_file=not data_args.overwrite_cache,\n",
        "        )\n",
        "    else:\n",
        "        # Otherwise, we tokenize every text, then concatenate them together before splitting them in smaller parts.\n",
        "        # We use `return_special_tokens_mask=True` because DataCollatorForLanguageModeling (see below) is more\n",
        "        # efficient when it receives the `special_tokens_mask`.\n",
        "        def tokenize_function(examples):\n",
        "            return tokenizer(examples[text_column_name], return_special_tokens_mask=True)\n",
        "\n",
        "        tokenized_datasets = datasets.map(\n",
        "            tokenize_function,\n",
        "            batched=True,\n",
        "            num_proc=data_args.preprocessing_num_workers,\n",
        "            remove_columns=column_names,\n",
        "            load_from_cache_file=not data_args.overwrite_cache,\n",
        "        )\n",
        "\n",
        "        if data_args.max_seq_length is None:\n",
        "            max_seq_length = tokenizer.model_max_length\n",
        "        else:\n",
        "            if data_args.max_seq_length > tokenizer.model_max_length:\n",
        "                logger.warn(\n",
        "                    f\"The max_seq_length passed ({data_args.max_seq_length}) is larger than the maximum length for the\"\n",
        "                    f\"model ({tokenizer.model_max_length}). Using max_seq_length={tokenizer.model_max_length}.\"\n",
        "                )\n",
        "            max_seq_length = min(data_args.max_seq_length, tokenizer.model_max_length)\n",
        "\n",
        "        # Main data processing function that will concatenate all texts from our dataset and generate chunks of\n",
        "        # max_seq_length.\n",
        "        def group_texts(examples):\n",
        "            # Concatenate all texts.\n",
        "            concatenated_examples = {k: sum(examples[k], []) for k in examples.keys()}\n",
        "            total_length = len(concatenated_examples[list(examples.keys())[0]])\n",
        "            # We drop the small remainder, we could add padding if the model supported it instead of this drop, you can\n",
        "            # customize this part to your needs.\n",
        "            total_length = (total_length // max_seq_length) * max_seq_length\n",
        "            # Split by chunks of max_len.\n",
        "            result = {\n",
        "                k: [t[i : i + max_seq_length] for i in range(0, total_length, max_seq_length)]\n",
        "                for k, t in concatenated_examples.items()\n",
        "            }\n",
        "            return result\n",
        "\n",
        "        # Note that with `batched=True`, this map processes 1,000 texts together, so group_texts throws away a\n",
        "        # remainder for each of those groups of 1,000 texts. You can adjust that batch_size here but a higher value\n",
        "        # might be slower to preprocess.\n",
        "        #\n",
        "        # To speed up this part, we use multiprocessing. See the documentation of the map method for more information:\n",
        "        # https://huggingface.co/docs/datasets/package_reference/main_classes.html#datasets.Dataset.map\n",
        "        tokenized_datasets = tokenized_datasets.map(\n",
        "            group_texts,\n",
        "            batched=True,\n",
        "            num_proc=data_args.preprocessing_num_workers,\n",
        "            load_from_cache_file=not data_args.overwrite_cache,\n",
        "        )\n",
        "\n",
        "    # Data collator\n",
        "    # This one will take care of randomly masking the tokens.\n",
        "    data_collator = DataCollatorForLanguageModeling(tokenizer=tokenizer, mlm_probability=data_args.mlm_probability)\n",
        "\n",
        "    # Initialize our Trainer\n",
        "    trainer = Trainer(\n",
        "        model=model,\n",
        "        args=training_args,\n",
        "        train_dataset=tokenized_datasets[\"train\"] if training_args.do_train else None,\n",
        "        eval_dataset=tokenized_datasets[\"validation\"] if training_args.do_eval else None,\n",
        "        tokenizer=tokenizer,\n",
        "        data_collator=data_collator,\n",
        "    )\n",
        "\n",
        "    # Training\n",
        "    if training_args.do_train:\n",
        "        model_path = (\n",
        "            model_args.model_name_or_path\n",
        "            if (model_args.model_name_or_path is not None and os.path.isdir(model_args.model_name_or_path))\n",
        "            else None\n",
        "        )\n",
        "        trainer.train(model_path=model_path)\n",
        "        trainer.save_model()  # Saves the tokenizer too for easy upload\n",
        "\n",
        "    # Evaluation\n",
        "    results = {}\n",
        "    if training_args.do_eval:\n",
        "        logger.info(\"*** Evaluate ***\")\n",
        "\n",
        "        eval_output = trainer.evaluate()\n",
        "\n",
        "        perplexity = math.exp(eval_output[\"eval_loss\"])\n",
        "        results[\"perplexity\"] = perplexity\n",
        "\n",
        "        output_eval_file = os.path.join(training_args.output_dir, \"eval_results_mlm.txt\")\n",
        "        if trainer.is_world_process_zero():\n",
        "            with open(output_eval_file, \"w\") as writer:\n",
        "                logger.info(\"***** Eval results *****\")\n",
        "                for key, value in results.items():\n",
        "                    logger.info(f\"  {key} = {value}\")\n",
        "                    writer.write(f\"{key} = {value}\")\n",
        "\n",
        "    return results\n",
        "\n",
        "\n",
        "def _mp_fn(index):\n",
        "    # For xla_spawn (TPUs)\n",
        "    main()\n",
        "\n",
        "\n",
        "if __name__ == \"__main__\":\n",
        "    main()'''\n"
      ],
      "execution_count": null,
      "outputs": []
    },
    {
      "cell_type": "markdown",
      "metadata": {
        "id": "-ejaznozTew0"
      },
      "source": [
        "Creating training Python file."
      ]
    },
    {
      "cell_type": "code",
      "metadata": {
        "id": "-EBsMF1nFAlE"
      },
      "source": [
        "f=open('run_mlm.py','w')\n",
        "f.write(s)\n",
        "f.close()"
      ],
      "execution_count": null,
      "outputs": []
    },
    {
      "cell_type": "markdown",
      "metadata": {
        "id": "-Jm4fH3XTjO_"
      },
      "source": [
        "Installing dependencies."
      ]
    },
    {
      "cell_type": "code",
      "metadata": {
        "colab": {
          "base_uri": "https://localhost:8080/"
        },
        "id": "CeKbw856HaNz",
        "outputId": "f6f4f145-9097-4abb-c94c-14b1cf7e424b"
      },
      "source": [
        "!pip install datasets"
      ],
      "execution_count": null,
      "outputs": [
        {
          "output_type": "stream",
          "text": [
            "Collecting datasets\n",
            "\u001b[?25l  Downloading https://files.pythonhosted.org/packages/1a/38/0c24dce24767386123d528d27109024220db0e7a04467b658d587695241a/datasets-1.1.3-py3-none-any.whl (153kB)\n",
            "\u001b[K     |████████████████████████████████| 163kB 7.5MB/s \n",
            "\u001b[?25hCollecting pyarrow>=0.17.1\n",
            "\u001b[?25l  Downloading https://files.pythonhosted.org/packages/d7/e1/27958a70848f8f7089bff8d6ebe42519daf01f976d28b481e1bfd52c8097/pyarrow-2.0.0-cp36-cp36m-manylinux2014_x86_64.whl (17.7MB)\n",
            "\u001b[K     |████████████████████████████████| 17.7MB 202kB/s \n",
            "\u001b[?25hRequirement already satisfied: pandas in /usr/local/lib/python3.6/dist-packages (from datasets) (1.1.5)\n",
            "Requirement already satisfied: tqdm<4.50.0,>=4.27 in /usr/local/lib/python3.6/dist-packages (from datasets) (4.41.1)\n",
            "Requirement already satisfied: requests>=2.19.0 in /usr/local/lib/python3.6/dist-packages (from datasets) (2.23.0)\n",
            "Requirement already satisfied: dataclasses; python_version < \"3.7\" in /usr/local/lib/python3.6/dist-packages (from datasets) (0.8)\n",
            "Requirement already satisfied: dill in /usr/local/lib/python3.6/dist-packages (from datasets) (0.3.3)\n",
            "Requirement already satisfied: multiprocess in /usr/local/lib/python3.6/dist-packages (from datasets) (0.70.11.1)\n",
            "Collecting xxhash\n",
            "\u001b[?25l  Downloading https://files.pythonhosted.org/packages/f7/73/826b19f3594756cb1c6c23d2fbd8ca6a77a9cd3b650c9dec5acc85004c38/xxhash-2.0.0-cp36-cp36m-manylinux2010_x86_64.whl (242kB)\n",
            "\u001b[K     |████████████████████████████████| 245kB 37.4MB/s \n",
            "\u001b[?25hRequirement already satisfied: numpy>=1.17 in /usr/local/lib/python3.6/dist-packages (from datasets) (1.18.5)\n",
            "Requirement already satisfied: pytz>=2017.2 in /usr/local/lib/python3.6/dist-packages (from pandas->datasets) (2018.9)\n",
            "Requirement already satisfied: python-dateutil>=2.7.3 in /usr/local/lib/python3.6/dist-packages (from pandas->datasets) (2.8.1)\n",
            "Requirement already satisfied: certifi>=2017.4.17 in /usr/local/lib/python3.6/dist-packages (from requests>=2.19.0->datasets) (2020.12.5)\n",
            "Requirement already satisfied: urllib3!=1.25.0,!=1.25.1,<1.26,>=1.21.1 in /usr/local/lib/python3.6/dist-packages (from requests>=2.19.0->datasets) (1.24.3)\n",
            "Requirement already satisfied: idna<3,>=2.5 in /usr/local/lib/python3.6/dist-packages (from requests>=2.19.0->datasets) (2.10)\n",
            "Requirement already satisfied: chardet<4,>=3.0.2 in /usr/local/lib/python3.6/dist-packages (from requests>=2.19.0->datasets) (3.0.4)\n",
            "Requirement already satisfied: six>=1.5 in /usr/local/lib/python3.6/dist-packages (from python-dateutil>=2.7.3->pandas->datasets) (1.15.0)\n",
            "Installing collected packages: pyarrow, xxhash, datasets\n",
            "  Found existing installation: pyarrow 0.14.1\n",
            "    Uninstalling pyarrow-0.14.1:\n",
            "      Successfully uninstalled pyarrow-0.14.1\n",
            "Successfully installed datasets-1.1.3 pyarrow-2.0.0 xxhash-2.0.0\n"
          ],
          "name": "stdout"
        }
      ]
    },
    {
      "cell_type": "code",
      "metadata": {
        "colab": {
          "base_uri": "https://localhost:8080/"
        },
        "id": "-_eawDrPFQM4",
        "outputId": "7baaf11c-5b78-4e18-bdea-619f5d59ac35"
      },
      "source": [
        "!pip install transformers\n",
        "!pip install fitbert"
      ],
      "execution_count": null,
      "outputs": [
        {
          "output_type": "stream",
          "text": [
            "Collecting transformers\n",
            "\u001b[?25l  Downloading https://files.pythonhosted.org/packages/ed/db/98c3ea1a78190dac41c0127a063abf92bd01b4b0b6970a6db1c2f5b66fa0/transformers-4.0.1-py3-none-any.whl (1.4MB)\n",
            "\u001b[K     |████████████████████████████████| 1.4MB 8.2MB/s \n",
            "\u001b[?25hCollecting sacremoses\n",
            "\u001b[?25l  Downloading https://files.pythonhosted.org/packages/7d/34/09d19aff26edcc8eb2a01bed8e98f13a1537005d31e95233fd48216eed10/sacremoses-0.0.43.tar.gz (883kB)\n",
            "\u001b[K     |████████████████████████████████| 890kB 27.4MB/s \n",
            "\u001b[?25hRequirement already satisfied: numpy in /usr/local/lib/python3.6/dist-packages (from transformers) (1.18.5)\n",
            "Requirement already satisfied: dataclasses; python_version < \"3.7\" in /usr/local/lib/python3.6/dist-packages (from transformers) (0.8)\n",
            "Requirement already satisfied: packaging in /usr/local/lib/python3.6/dist-packages (from transformers) (20.7)\n",
            "Requirement already satisfied: tqdm>=4.27 in /usr/local/lib/python3.6/dist-packages (from transformers) (4.41.1)\n",
            "Requirement already satisfied: filelock in /usr/local/lib/python3.6/dist-packages (from transformers) (3.0.12)\n",
            "Requirement already satisfied: regex!=2019.12.17 in /usr/local/lib/python3.6/dist-packages (from transformers) (2019.12.20)\n",
            "Collecting tokenizers==0.9.4\n",
            "\u001b[?25l  Downloading https://files.pythonhosted.org/packages/0f/1c/e789a8b12e28be5bc1ce2156cf87cb522b379be9cadc7ad8091a4cc107c4/tokenizers-0.9.4-cp36-cp36m-manylinux2010_x86_64.whl (2.9MB)\n",
            "\u001b[K     |████████████████████████████████| 2.9MB 36.3MB/s \n",
            "\u001b[?25hRequirement already satisfied: requests in /usr/local/lib/python3.6/dist-packages (from transformers) (2.23.0)\n",
            "Requirement already satisfied: six in /usr/local/lib/python3.6/dist-packages (from sacremoses->transformers) (1.15.0)\n",
            "Requirement already satisfied: click in /usr/local/lib/python3.6/dist-packages (from sacremoses->transformers) (7.1.2)\n",
            "Requirement already satisfied: joblib in /usr/local/lib/python3.6/dist-packages (from sacremoses->transformers) (0.17.0)\n",
            "Requirement already satisfied: pyparsing>=2.0.2 in /usr/local/lib/python3.6/dist-packages (from packaging->transformers) (2.4.7)\n",
            "Requirement already satisfied: chardet<4,>=3.0.2 in /usr/local/lib/python3.6/dist-packages (from requests->transformers) (3.0.4)\n",
            "Requirement already satisfied: idna<3,>=2.5 in /usr/local/lib/python3.6/dist-packages (from requests->transformers) (2.10)\n",
            "Requirement already satisfied: certifi>=2017.4.17 in /usr/local/lib/python3.6/dist-packages (from requests->transformers) (2020.12.5)\n",
            "Requirement already satisfied: urllib3!=1.25.0,!=1.25.1,<1.26,>=1.21.1 in /usr/local/lib/python3.6/dist-packages (from requests->transformers) (1.24.3)\n",
            "Building wheels for collected packages: sacremoses\n",
            "  Building wheel for sacremoses (setup.py) ... \u001b[?25l\u001b[?25hdone\n",
            "  Created wheel for sacremoses: filename=sacremoses-0.0.43-cp36-none-any.whl size=893261 sha256=ac0facafd95095e54cd4f774c01571dc46ae9effd3bf3f26bdb40fbb0e2a893c\n",
            "  Stored in directory: /root/.cache/pip/wheels/29/3c/fd/7ce5c3f0666dab31a50123635e6fb5e19ceb42ce38d4e58f45\n",
            "Successfully built sacremoses\n",
            "Installing collected packages: sacremoses, tokenizers, transformers\n",
            "Successfully installed sacremoses-0.0.43 tokenizers-0.9.4 transformers-4.0.1\n",
            "Collecting fitbert\n",
            "\u001b[?25l  Downloading https://files.pythonhosted.org/packages/03/d3/68708770ff5b41a0f4372706c0489dab254eca07fd110ab2f41047d3fb4b/fitbert-0.9.0.tar.gz (216kB)\n",
            "\u001b[K     |████████████████████████████████| 225kB 9.7MB/s \n",
            "\u001b[?25hRequirement already satisfied: torch>=1.1.0 in /usr/local/lib/python3.6/dist-packages (from fitbert) (1.7.0+cu101)\n",
            "Requirement already satisfied: transformers>=2.1.1 in /usr/local/lib/python3.6/dist-packages (from fitbert) (4.0.1)\n",
            "Collecting PyFunctional==1.2.0\n",
            "\u001b[?25l  Downloading https://files.pythonhosted.org/packages/96/80/8edc965035d787105a7c85f4f9c490aea000e004062205699c3b39feb7dc/PyFunctional-1.2.0-py3-none-any.whl (44kB)\n",
            "\u001b[K     |████████████████████████████████| 51kB 5.7MB/s \n",
            "\u001b[?25hRequirement already satisfied: future in /usr/local/lib/python3.6/dist-packages (from torch>=1.1.0->fitbert) (0.16.0)\n",
            "Requirement already satisfied: typing-extensions in /usr/local/lib/python3.6/dist-packages (from torch>=1.1.0->fitbert) (3.7.4.3)\n",
            "Requirement already satisfied: dataclasses in /usr/local/lib/python3.6/dist-packages (from torch>=1.1.0->fitbert) (0.8)\n",
            "Requirement already satisfied: numpy in /usr/local/lib/python3.6/dist-packages (from torch>=1.1.0->fitbert) (1.18.5)\n",
            "Requirement already satisfied: filelock in /usr/local/lib/python3.6/dist-packages (from transformers>=2.1.1->fitbert) (3.0.12)\n",
            "Requirement already satisfied: regex!=2019.12.17 in /usr/local/lib/python3.6/dist-packages (from transformers>=2.1.1->fitbert) (2019.12.20)\n",
            "Requirement already satisfied: tqdm>=4.27 in /usr/local/lib/python3.6/dist-packages (from transformers>=2.1.1->fitbert) (4.41.1)\n",
            "Requirement already satisfied: requests in /usr/local/lib/python3.6/dist-packages (from transformers>=2.1.1->fitbert) (2.23.0)\n",
            "Requirement already satisfied: packaging in /usr/local/lib/python3.6/dist-packages (from transformers>=2.1.1->fitbert) (20.7)\n",
            "Requirement already satisfied: sacremoses in /usr/local/lib/python3.6/dist-packages (from transformers>=2.1.1->fitbert) (0.0.43)\n",
            "Requirement already satisfied: tokenizers==0.9.4 in /usr/local/lib/python3.6/dist-packages (from transformers>=2.1.1->fitbert) (0.9.4)\n",
            "Requirement already satisfied: six<=2.0.0 in /usr/local/lib/python3.6/dist-packages (from PyFunctional==1.2.0->fitbert) (1.15.0)\n",
            "Collecting dill==0.2.5\n",
            "\u001b[?25l  Downloading https://files.pythonhosted.org/packages/47/59/a72f5c3b17647031d426cd3df6874c7e2a8821b007ef4241ee4a59594cb3/dill-0.2.5.tgz (60kB)\n",
            "\u001b[K     |████████████████████████████████| 61kB 5.5MB/s \n",
            "\u001b[?25hRequirement already satisfied: tabulate<=1.0.0 in /usr/local/lib/python3.6/dist-packages (from PyFunctional==1.2.0->fitbert) (0.8.7)\n",
            "Requirement already satisfied: idna<3,>=2.5 in /usr/local/lib/python3.6/dist-packages (from requests->transformers>=2.1.1->fitbert) (2.10)\n",
            "Requirement already satisfied: certifi>=2017.4.17 in /usr/local/lib/python3.6/dist-packages (from requests->transformers>=2.1.1->fitbert) (2020.12.5)\n",
            "Requirement already satisfied: urllib3!=1.25.0,!=1.25.1,<1.26,>=1.21.1 in /usr/local/lib/python3.6/dist-packages (from requests->transformers>=2.1.1->fitbert) (1.24.3)\n",
            "Requirement already satisfied: chardet<4,>=3.0.2 in /usr/local/lib/python3.6/dist-packages (from requests->transformers>=2.1.1->fitbert) (3.0.4)\n",
            "Requirement already satisfied: pyparsing>=2.0.2 in /usr/local/lib/python3.6/dist-packages (from packaging->transformers>=2.1.1->fitbert) (2.4.7)\n",
            "Requirement already satisfied: joblib in /usr/local/lib/python3.6/dist-packages (from sacremoses->transformers>=2.1.1->fitbert) (0.17.0)\n",
            "Requirement already satisfied: click in /usr/local/lib/python3.6/dist-packages (from sacremoses->transformers>=2.1.1->fitbert) (7.1.2)\n",
            "Building wheels for collected packages: fitbert, dill\n",
            "  Building wheel for fitbert (setup.py) ... \u001b[?25l\u001b[?25hdone\n",
            "  Created wheel for fitbert: filename=fitbert-0.9.0-cp36-none-any.whl size=214164 sha256=d0cbc4ec8a7c902b47b6260fd15eec0e0c351fcb4e7768d5d63b7937e45cc144\n",
            "  Stored in directory: /root/.cache/pip/wheels/96/e2/5b/b847ce6a5fac79014a603441cc446fda9e6f7099da0da8d8b0\n",
            "  Building wheel for dill (setup.py) ... \u001b[?25l\u001b[?25hdone\n",
            "  Created wheel for dill: filename=dill-0.2.5-cp36-none-any.whl size=52423 sha256=9cbd7a068e19fa2997ec135564a24b3ab4445c4ede07dd4faaa4aa72bd681556\n",
            "  Stored in directory: /root/.cache/pip/wheels/d0/f9/bb/01e2c9bc71ab75df06848f7eb23aa58b0e24713332aee81aa2\n",
            "Successfully built fitbert dill\n",
            "\u001b[31mERROR: multiprocess 0.70.11.1 has requirement dill>=0.3.3, but you'll have dill 0.2.5 which is incompatible.\u001b[0m\n",
            "Installing collected packages: dill, PyFunctional, fitbert\n",
            "  Found existing installation: dill 0.3.3\n",
            "    Uninstalling dill-0.3.3:\n",
            "      Successfully uninstalled dill-0.3.3\n",
            "Successfully installed PyFunctional-1.2.0 dill-0.2.5 fitbert-0.9.0\n"
          ],
          "name": "stdout"
        }
      ]
    },
    {
      "cell_type": "code",
      "metadata": {
        "colab": {
          "base_uri": "https://localhost:8080/"
        },
        "id": "Sr2f3pbOHw5i",
        "outputId": "1f560740-c55a-4024-8cfb-e90e28c98ee9"
      },
      "source": [
        "!pip install dill==0.2.7.1"
      ],
      "execution_count": null,
      "outputs": [
        {
          "output_type": "stream",
          "text": [
            "Collecting dill==0.2.7.1\n",
            "\u001b[?25l  Downloading https://files.pythonhosted.org/packages/91/a0/19d4d31dee064fc553ae01263b5c55e7fb93daff03a69debbedee647c5a0/dill-0.2.7.1.tar.gz (64kB)\n",
            "\r\u001b[K     |█████                           | 10kB 13.4MB/s eta 0:00:01\r\u001b[K     |██████████▏                     | 20kB 14.6MB/s eta 0:00:01\r\u001b[K     |███████████████▎                | 30kB 12.7MB/s eta 0:00:01\r\u001b[K     |████████████████████▎           | 40kB 12.0MB/s eta 0:00:01\r\u001b[K     |█████████████████████████▍      | 51kB 9.3MB/s eta 0:00:01\r\u001b[K     |██████████████████████████████▌ | 61kB 8.4MB/s eta 0:00:01\r\u001b[K     |████████████████████████████████| 71kB 5.0MB/s \n",
            "\u001b[?25hBuilding wheels for collected packages: dill\n",
            "  Building wheel for dill (setup.py) ... \u001b[?25l\u001b[?25hdone\n",
            "  Created wheel for dill: filename=dill-0.2.7.1-cp36-none-any.whl size=54544 sha256=fc8b36c31c48153c4943704e1d5b37ebfb6661368d276ccbb3a37e24da7c3266\n",
            "  Stored in directory: /root/.cache/pip/wheels/99/c4/ed/1b64d2d5809e60d5a3685530432f6159d6a9959739facb61f2\n",
            "Successfully built dill\n",
            "\u001b[31mERROR: pyfunctional 1.2.0 has requirement dill==0.2.5, but you'll have dill 0.2.7.1 which is incompatible.\u001b[0m\n",
            "\u001b[31mERROR: multiprocess 0.70.11.1 has requirement dill>=0.3.3, but you'll have dill 0.2.7.1 which is incompatible.\u001b[0m\n",
            "Installing collected packages: dill\n",
            "  Found existing installation: dill 0.2.5\n",
            "    Uninstalling dill-0.2.5:\n",
            "      Successfully uninstalled dill-0.2.5\n",
            "Successfully installed dill-0.2.7.1\n"
          ],
          "name": "stdout"
        }
      ]
    },
    {
      "cell_type": "code",
      "metadata": {
        "colab": {
          "base_uri": "https://localhost:8080/"
        },
        "id": "eZNdG1FRctun",
        "outputId": "41b86710-9e00-4132-8e69-f8798baf3045"
      },
      "source": [
        "!pip install sentence-transformers"
      ],
      "execution_count": null,
      "outputs": [
        {
          "output_type": "stream",
          "text": [
            "Collecting sentence-transformers\n",
            "\u001b[?25l  Downloading https://files.pythonhosted.org/packages/f5/5a/6e41e8383913dd2ba923cdcd02be2e03911595f4d2f9de559ecbed80d2d3/sentence-transformers-0.3.9.tar.gz (64kB)\n",
            "\u001b[K     |████████████████████████████████| 71kB 4.7MB/s \n",
            "\u001b[?25hCollecting transformers<3.6.0,>=3.1.0\n",
            "\u001b[?25l  Downloading https://files.pythonhosted.org/packages/3a/83/e74092e7f24a08d751aa59b37a9fc572b2e4af3918cb66f7766c3affb1b4/transformers-3.5.1-py3-none-any.whl (1.3MB)\n",
            "\u001b[K     |████████████████████████████████| 1.3MB 13.0MB/s \n",
            "\u001b[?25hRequirement already satisfied: tqdm in /usr/local/lib/python3.6/dist-packages (from sentence-transformers) (4.41.1)\n",
            "Requirement already satisfied: torch>=1.6.0 in /usr/local/lib/python3.6/dist-packages (from sentence-transformers) (1.7.0+cu101)\n",
            "Requirement already satisfied: numpy in /usr/local/lib/python3.6/dist-packages (from sentence-transformers) (1.18.5)\n",
            "Requirement already satisfied: scikit-learn in /usr/local/lib/python3.6/dist-packages (from sentence-transformers) (0.22.2.post1)\n",
            "Requirement already satisfied: scipy in /usr/local/lib/python3.6/dist-packages (from sentence-transformers) (1.4.1)\n",
            "Requirement already satisfied: nltk in /usr/local/lib/python3.6/dist-packages (from sentence-transformers) (3.2.5)\n",
            "Requirement already satisfied: protobuf in /usr/local/lib/python3.6/dist-packages (from transformers<3.6.0,>=3.1.0->sentence-transformers) (3.12.4)\n",
            "Requirement already satisfied: sacremoses in /usr/local/lib/python3.6/dist-packages (from transformers<3.6.0,>=3.1.0->sentence-transformers) (0.0.43)\n",
            "Collecting tokenizers==0.9.3\n",
            "\u001b[?25l  Downloading https://files.pythonhosted.org/packages/4c/34/b39eb9994bc3c999270b69c9eea40ecc6f0e97991dba28282b9fd32d44ee/tokenizers-0.9.3-cp36-cp36m-manylinux1_x86_64.whl (2.9MB)\n",
            "\u001b[K     |████████████████████████████████| 2.9MB 24.4MB/s \n",
            "\u001b[?25hRequirement already satisfied: regex!=2019.12.17 in /usr/local/lib/python3.6/dist-packages (from transformers<3.6.0,>=3.1.0->sentence-transformers) (2019.12.20)\n",
            "Requirement already satisfied: dataclasses; python_version < \"3.7\" in /usr/local/lib/python3.6/dist-packages (from transformers<3.6.0,>=3.1.0->sentence-transformers) (0.8)\n",
            "Requirement already satisfied: packaging in /usr/local/lib/python3.6/dist-packages (from transformers<3.6.0,>=3.1.0->sentence-transformers) (20.7)\n",
            "Requirement already satisfied: filelock in /usr/local/lib/python3.6/dist-packages (from transformers<3.6.0,>=3.1.0->sentence-transformers) (3.0.12)\n",
            "Collecting sentencepiece==0.1.91\n",
            "\u001b[?25l  Downloading https://files.pythonhosted.org/packages/d4/a4/d0a884c4300004a78cca907a6ff9a5e9fe4f090f5d95ab341c53d28cbc58/sentencepiece-0.1.91-cp36-cp36m-manylinux1_x86_64.whl (1.1MB)\n",
            "\u001b[K     |████████████████████████████████| 1.1MB 21.8MB/s \n",
            "\u001b[?25hRequirement already satisfied: requests in /usr/local/lib/python3.6/dist-packages (from transformers<3.6.0,>=3.1.0->sentence-transformers) (2.23.0)\n",
            "Requirement already satisfied: typing-extensions in /usr/local/lib/python3.6/dist-packages (from torch>=1.6.0->sentence-transformers) (3.7.4.3)\n",
            "Requirement already satisfied: future in /usr/local/lib/python3.6/dist-packages (from torch>=1.6.0->sentence-transformers) (0.16.0)\n",
            "Requirement already satisfied: joblib>=0.11 in /usr/local/lib/python3.6/dist-packages (from scikit-learn->sentence-transformers) (0.17.0)\n",
            "Requirement already satisfied: six in /usr/local/lib/python3.6/dist-packages (from nltk->sentence-transformers) (1.15.0)\n",
            "Requirement already satisfied: setuptools in /usr/local/lib/python3.6/dist-packages (from protobuf->transformers<3.6.0,>=3.1.0->sentence-transformers) (50.3.2)\n",
            "Requirement already satisfied: click in /usr/local/lib/python3.6/dist-packages (from sacremoses->transformers<3.6.0,>=3.1.0->sentence-transformers) (7.1.2)\n",
            "Requirement already satisfied: pyparsing>=2.0.2 in /usr/local/lib/python3.6/dist-packages (from packaging->transformers<3.6.0,>=3.1.0->sentence-transformers) (2.4.7)\n",
            "Requirement already satisfied: urllib3!=1.25.0,!=1.25.1,<1.26,>=1.21.1 in /usr/local/lib/python3.6/dist-packages (from requests->transformers<3.6.0,>=3.1.0->sentence-transformers) (1.24.3)\n",
            "Requirement already satisfied: idna<3,>=2.5 in /usr/local/lib/python3.6/dist-packages (from requests->transformers<3.6.0,>=3.1.0->sentence-transformers) (2.10)\n",
            "Requirement already satisfied: chardet<4,>=3.0.2 in /usr/local/lib/python3.6/dist-packages (from requests->transformers<3.6.0,>=3.1.0->sentence-transformers) (3.0.4)\n",
            "Requirement already satisfied: certifi>=2017.4.17 in /usr/local/lib/python3.6/dist-packages (from requests->transformers<3.6.0,>=3.1.0->sentence-transformers) (2020.12.5)\n",
            "Building wheels for collected packages: sentence-transformers\n",
            "  Building wheel for sentence-transformers (setup.py) ... \u001b[?25l\u001b[?25hdone\n",
            "  Created wheel for sentence-transformers: filename=sentence_transformers-0.3.9-cp36-none-any.whl size=101034 sha256=ecd2549b8a82b8bd7fc1ef02bccad389dfba12826ac7caeb2bf7e1c9438ae678\n",
            "  Stored in directory: /root/.cache/pip/wheels/fc/89/43/f2f5bc00b03ef9724b0f6254a97eaf159a4c4ddc024b33e07a\n",
            "Successfully built sentence-transformers\n",
            "Installing collected packages: tokenizers, sentencepiece, transformers, sentence-transformers\n",
            "  Found existing installation: tokenizers 0.9.4\n",
            "    Uninstalling tokenizers-0.9.4:\n",
            "      Successfully uninstalled tokenizers-0.9.4\n",
            "  Found existing installation: transformers 4.0.1\n",
            "    Uninstalling transformers-4.0.1:\n",
            "      Successfully uninstalled transformers-4.0.1\n",
            "Successfully installed sentence-transformers-0.3.9 sentencepiece-0.1.91 tokenizers-0.9.3 transformers-3.5.1\n"
          ],
          "name": "stdout"
        }
      ]
    },
    {
      "cell_type": "code",
      "metadata": {
        "colab": {
          "base_uri": "https://localhost:8080/"
        },
        "id": "-vaIagiWdHXz",
        "outputId": "96150e31-cff8-4b14-b446-cacca33bfe17"
      },
      "source": [
        "import torch\n",
        "import pandas as pd\n",
        "import numpy as np\n",
        "from nltk.corpus import stopwords\n",
        "import nltk\n",
        "nltk.download('stopwords')\n",
        "import re\n",
        "import csv\n",
        "from sklearn.feature_extraction.text import TfidfVectorizer \n",
        "from sklearn.metrics.pairwise import cosine_similarity\n",
        "stop_words_l=stopwords.words('english')"
      ],
      "execution_count": null,
      "outputs": [
        {
          "output_type": "stream",
          "text": [
            "[nltk_data] Downloading package stopwords to /root/nltk_data...\n",
            "[nltk_data]   Unzipping corpora/stopwords.zip.\n"
          ],
          "name": "stdout"
        }
      ]
    },
    {
      "cell_type": "code",
      "metadata": {
        "id": "EQ7SD5HIIwSY"
      },
      "source": [
        "import dill\n",
        "dill.dill._reverse_typemap['ClassType'] = type"
      ],
      "execution_count": null,
      "outputs": []
    },
    {
      "cell_type": "code",
      "metadata": {
        "colab": {
          "base_uri": "https://localhost:8080/"
        },
        "id": "vPc7-hcBI7oi",
        "outputId": "75469030-f94f-40dc-e0e5-36ec887bee7e"
      },
      "source": [
        "dill.__version__"
      ],
      "execution_count": null,
      "outputs": [
        {
          "output_type": "execute_result",
          "data": {
            "application/vnd.google.colaboratory.intrinsic+json": {
              "type": "string"
            },
            "text/plain": [
              "'0.2.7.1'"
            ]
          },
          "metadata": {
            "tags": []
          },
          "execution_count": 9
        }
      ]
    },
    {
      "cell_type": "markdown",
      "metadata": {
        "id": "L3WwuVAcePuJ"
      },
      "source": [
        "Modifying some dependencies."
      ]
    },
    {
      "cell_type": "code",
      "metadata": {
        "id": "slKsa8TDJNgh"
      },
      "source": [
        "f=open('/usr/local/lib/python3.6/dist-packages/datasets/utils/py_utils.py')\n",
        "r=f.read()\n",
        "r=r.replace('_dill','dill')\n",
        "f.close()\n",
        "f=open('/usr/local/lib/python3.6/dist-packages/datasets/utils/py_utils.py','w')\n",
        "f.write(r)\n",
        "f.close()"
      ],
      "execution_count": null,
      "outputs": []
    },
    {
      "cell_type": "code",
      "metadata": {
        "colab": {
          "base_uri": "https://localhost:8080/"
        },
        "id": "lMw66bbMc3Vz",
        "outputId": "cb1289ca-08cf-4a8d-dcb2-f36d60c1af6b"
      },
      "source": [
        "from sentence_transformers import SentenceTransformer\n",
        "sbert_model = SentenceTransformer('bert-base-nli-mean-tokens')"
      ],
      "execution_count": null,
      "outputs": [
        {
          "output_type": "stream",
          "text": [
            "100%|██████████| 405M/405M [00:32<00:00, 12.7MB/s]\n"
          ],
          "name": "stderr"
        }
      ]
    },
    {
      "cell_type": "markdown",
      "metadata": {
        "id": "nlZ3zTz2ToTQ"
      },
      "source": [
        "# Creating training files"
      ]
    },
    {
      "cell_type": "markdown",
      "metadata": {
        "id": "bZ5ZVlc-TrAU"
      },
      "source": [
        "Using cleaned data in csv file to create training data file according to requirement."
      ]
    },
    {
      "cell_type": "code",
      "metadata": {
        "id": "-mT3c0GRng--"
      },
      "source": [
        "def most_similar(doc_id,similarity_matrix,matrix,df):\n",
        "    if matrix=='Cosine Similarity':\n",
        "        similar_ix=np.argsort(similarity_matrix[doc_id])[::-1]\n",
        "    elif matrix=='Euclidean Distance':\n",
        "        similar_ix=np.argsort(similarity_matrix[doc_id])\n",
        "    return similar_ix[1:]\n",
        "def create_with_context(path, fname, num):\n",
        "  df = pd.read_csv(path)\n",
        "  content = []\n",
        "  for idx, row in df.iterrows():\n",
        "    ques = row['question']\n",
        "    passage = row['article']\n",
        "\n",
        "    ques = ques.replace('@placeholder', row[\"option_\"+str(row[\"label\"])])\n",
        "\n",
        "    docs = passage.split('. ')\n",
        "    docs.insert(0, ques)\n",
        "\n",
        "    temp_df = pd.DataFrame(docs,columns=['sentences'])\n",
        "    temp_df['cleaned']=temp_df.sentences.apply(lambda x: \" \".join(re.sub(r'[^a-zA-Z]',' ',w).lower() for w in x.split() if re.sub(r'[^a-zA-Z]',' ',w).lower() not in stop_words_l))\n",
        "    \n",
        "    document_embeddings = sbert_model.encode(temp_df['cleaned'])\n",
        "    pairwise_similarities=cosine_similarity(document_embeddings)\n",
        "\n",
        "    top_sen = most_similar(0,pairwise_similarities,'Cosine Similarity', temp_df)[:num]\n",
        "\n",
        "    # len_ques = len(tokenizer.tokenize(row['question']))\n",
        "    sim_sent = [docs[x] for x in top_sen]\n",
        "    # len_pass = len(tokenizer.tokenize(' '.join(sim_sent)))\n",
        "\n",
        "    ques = ' '.join(sim_sent) + ques\n",
        "\n",
        "    content.append(ques+'\\n')\n",
        "  f = open(fname+'.txt', 'w')\n",
        "  f.writelines(content)\n",
        "  f.close()\n"
      ],
      "execution_count": null,
      "outputs": []
    },
    {
      "cell_type": "code",
      "metadata": {
        "id": "h2rLUk2LoWh5"
      },
      "source": [
        "paths = {'/content/train_task_1.csv': 'train1c', '/content/dev_task_1.csv': 'dev1c',}\n",
        "for path in paths:\n",
        "  create_with_context(path, paths[path], 2)  #adds top 2 similar sentences from context to training file."
      ],
      "execution_count": null,
      "outputs": []
    },
    {
      "cell_type": "markdown",
      "metadata": {
        "id": "rRpk_vluUKLS"
      },
      "source": [
        "# Train MLM"
      ]
    },
    {
      "cell_type": "markdown",
      "metadata": {
        "id": "yMQOHcMQUMgf"
      },
      "source": [
        "Using the run_mlm.py file for fine-tuning a pre-trained BERT LM Model."
      ]
    },
    {
      "cell_type": "code",
      "metadata": {
        "colab": {
          "base_uri": "https://localhost:8080/"
        },
        "id": "HWpD2VpVFw23",
        "outputId": "a39ac54b-77d7-4ecb-eef4-59639afc345c"
      },
      "source": [
        "!python run_mlm.py --model_name_or_path bert-base-cased --train_file '/content/train1c.txt' --validation_file '/content/dev1c.txt' --do_train --do_eval --line_by_line --output_dir /tmp/test-mlm-bert-1c"
      ],
      "execution_count": null,
      "outputs": [
        {
          "output_type": "stream",
          "text": [
            "2020-12-13 16:19:44.197195: I tensorflow/stream_executor/platform/default/dso_loader.cc:48] Successfully opened dynamic library libcudart.so.10.1\n",
            "12/13/2020 16:19:45 - WARNING - __main__ -   Process rank: -1, device: cuda:0, n_gpu: 1distributed training: False, 16-bits training: False\n",
            "12/13/2020 16:19:45 - INFO - __main__ -   Training/evaluation parameters TrainingArguments(output_dir='/tmp/test-mlm-bert-1c', overwrite_output_dir=False, do_train=True, do_eval=True, do_predict=False, evaluate_during_training=False, evaluation_strategy=<EvaluationStrategy.NO: 'no'>, prediction_loss_only=False, per_device_train_batch_size=8, per_device_eval_batch_size=8, per_gpu_train_batch_size=None, per_gpu_eval_batch_size=None, gradient_accumulation_steps=1, eval_accumulation_steps=None, learning_rate=5e-05, weight_decay=0.0, adam_beta1=0.9, adam_beta2=0.999, adam_epsilon=1e-08, max_grad_norm=1.0, num_train_epochs=3.0, max_steps=-1, warmup_steps=0, logging_dir='runs/Dec13_16-19-45_d50362bc16f6', logging_first_step=False, logging_steps=500, save_steps=500, save_total_limit=None, no_cuda=False, seed=42, fp16=False, fp16_opt_level='O1', local_rank=-1, tpu_num_cores=None, tpu_metrics_debug=False, debug=False, dataloader_drop_last=False, eval_steps=500, dataloader_num_workers=0, past_index=-1, run_name='/tmp/test-mlm-bert-1c', disable_tqdm=False, remove_unused_columns=True, label_names=None, load_best_model_at_end=False, metric_for_best_model=None, greater_is_better=None)\n",
            "Downloading: 2.57kB [00:00, 1.91MB/s]       \n",
            "Using custom data configuration default\n",
            "Downloading and preparing dataset text/default-cb0b52804d7b1623 (download: Unknown size, generated: Unknown size, post-processed: Unknown size, total: Unknown size) to /root/.cache/huggingface/datasets/text/default-cb0b52804d7b1623/0.0.0/daf90a707a433ac193b369c8cc1772139bb6cca21a9c7fe83bdd16aad9b9b6ab...\n",
            "Dataset text downloaded and prepared to /root/.cache/huggingface/datasets/text/default-cb0b52804d7b1623/0.0.0/daf90a707a433ac193b369c8cc1772139bb6cca21a9c7fe83bdd16aad9b9b6ab. Subsequent calls will reuse this data.\n",
            "12/13/2020 16:19:46 - INFO - filelock -   Lock 140063360950056 acquired on /root/.cache/torch/transformers/a803e0468a8fe090683bdc453f4fac622804f49de86d7cecaee92365d4a0f829.0d87139f53a477d9f900f8a9020c367863079014bdaf2aa713f4b64cf1782655.lock\n",
            "[INFO|file_utils.py:1162] 2020-12-13 16:19:46,839 >> https://huggingface.co/bert-base-cased/resolve/main/config.json not found in cache or force_download set to True, downloading to /root/.cache/torch/transformers/tmpznej60r2\n",
            "Downloading: 100% 433/433 [00:00<00:00, 412kB/s]\n",
            "[INFO|file_utils.py:1166] 2020-12-13 16:19:47,119 >> storing https://huggingface.co/bert-base-cased/resolve/main/config.json in cache at /root/.cache/torch/transformers/a803e0468a8fe090683bdc453f4fac622804f49de86d7cecaee92365d4a0f829.0d87139f53a477d9f900f8a9020c367863079014bdaf2aa713f4b64cf1782655\n",
            "[INFO|file_utils.py:1169] 2020-12-13 16:19:47,119 >> creating metadata file for /root/.cache/torch/transformers/a803e0468a8fe090683bdc453f4fac622804f49de86d7cecaee92365d4a0f829.0d87139f53a477d9f900f8a9020c367863079014bdaf2aa713f4b64cf1782655\n",
            "12/13/2020 16:19:47 - INFO - filelock -   Lock 140063360950056 released on /root/.cache/torch/transformers/a803e0468a8fe090683bdc453f4fac622804f49de86d7cecaee92365d4a0f829.0d87139f53a477d9f900f8a9020c367863079014bdaf2aa713f4b64cf1782655.lock\n",
            "[INFO|configuration_utils.py:413] 2020-12-13 16:19:47,119 >> loading configuration file https://huggingface.co/bert-base-cased/resolve/main/config.json from cache at /root/.cache/torch/transformers/a803e0468a8fe090683bdc453f4fac622804f49de86d7cecaee92365d4a0f829.0d87139f53a477d9f900f8a9020c367863079014bdaf2aa713f4b64cf1782655\n",
            "[INFO|configuration_utils.py:449] 2020-12-13 16:19:47,120 >> Model config BertConfig {\n",
            "  \"architectures\": [\n",
            "    \"BertForMaskedLM\"\n",
            "  ],\n",
            "  \"attention_probs_dropout_prob\": 0.1,\n",
            "  \"gradient_checkpointing\": false,\n",
            "  \"hidden_act\": \"gelu\",\n",
            "  \"hidden_dropout_prob\": 0.1,\n",
            "  \"hidden_size\": 768,\n",
            "  \"initializer_range\": 0.02,\n",
            "  \"intermediate_size\": 3072,\n",
            "  \"layer_norm_eps\": 1e-12,\n",
            "  \"max_position_embeddings\": 512,\n",
            "  \"model_type\": \"bert\",\n",
            "  \"num_attention_heads\": 12,\n",
            "  \"num_hidden_layers\": 12,\n",
            "  \"pad_token_id\": 0,\n",
            "  \"type_vocab_size\": 2,\n",
            "  \"vocab_size\": 28996\n",
            "}\n",
            "\n",
            "[INFO|configuration_utils.py:413] 2020-12-13 16:19:47,386 >> loading configuration file https://huggingface.co/bert-base-cased/resolve/main/config.json from cache at /root/.cache/torch/transformers/a803e0468a8fe090683bdc453f4fac622804f49de86d7cecaee92365d4a0f829.0d87139f53a477d9f900f8a9020c367863079014bdaf2aa713f4b64cf1782655\n",
            "[INFO|configuration_utils.py:449] 2020-12-13 16:19:47,387 >> Model config BertConfig {\n",
            "  \"architectures\": [\n",
            "    \"BertForMaskedLM\"\n",
            "  ],\n",
            "  \"attention_probs_dropout_prob\": 0.1,\n",
            "  \"gradient_checkpointing\": false,\n",
            "  \"hidden_act\": \"gelu\",\n",
            "  \"hidden_dropout_prob\": 0.1,\n",
            "  \"hidden_size\": 768,\n",
            "  \"initializer_range\": 0.02,\n",
            "  \"intermediate_size\": 3072,\n",
            "  \"layer_norm_eps\": 1e-12,\n",
            "  \"max_position_embeddings\": 512,\n",
            "  \"model_type\": \"bert\",\n",
            "  \"num_attention_heads\": 12,\n",
            "  \"num_hidden_layers\": 12,\n",
            "  \"pad_token_id\": 0,\n",
            "  \"type_vocab_size\": 2,\n",
            "  \"vocab_size\": 28996\n",
            "}\n",
            "\n",
            "12/13/2020 16:19:47 - INFO - filelock -   Lock 140063359875168 acquired on /root/.cache/torch/transformers/6508e60ab3c1200bffa26c95f4b58ac6b6d95fba4db1f195f632fa3cd7bc64cc.437aa611e89f6fc6675a049d2b5545390adbc617e7d655286421c191d2be2791.lock\n",
            "[INFO|file_utils.py:1162] 2020-12-13 16:19:47,655 >> https://huggingface.co/bert-base-cased/resolve/main/vocab.txt not found in cache or force_download set to True, downloading to /root/.cache/torch/transformers/tmpa86h8r6v\n",
            "Downloading: 100% 213k/213k [00:00<00:00, 633kB/s]\n",
            "[INFO|file_utils.py:1166] 2020-12-13 16:19:48,260 >> storing https://huggingface.co/bert-base-cased/resolve/main/vocab.txt in cache at /root/.cache/torch/transformers/6508e60ab3c1200bffa26c95f4b58ac6b6d95fba4db1f195f632fa3cd7bc64cc.437aa611e89f6fc6675a049d2b5545390adbc617e7d655286421c191d2be2791\n",
            "[INFO|file_utils.py:1169] 2020-12-13 16:19:48,260 >> creating metadata file for /root/.cache/torch/transformers/6508e60ab3c1200bffa26c95f4b58ac6b6d95fba4db1f195f632fa3cd7bc64cc.437aa611e89f6fc6675a049d2b5545390adbc617e7d655286421c191d2be2791\n",
            "12/13/2020 16:19:48 - INFO - filelock -   Lock 140063359875168 released on /root/.cache/torch/transformers/6508e60ab3c1200bffa26c95f4b58ac6b6d95fba4db1f195f632fa3cd7bc64cc.437aa611e89f6fc6675a049d2b5545390adbc617e7d655286421c191d2be2791.lock\n",
            "12/13/2020 16:19:48 - INFO - filelock -   Lock 140063359875616 acquired on /root/.cache/torch/transformers/226a307193a9f4344264cdc76a12988448a25345ba172f2c7421f3b6810fddad.3dab63143af66769bbb35e3811f75f7e16b2320e12b7935e216bd6159ce6d9a6.lock\n",
            "[INFO|file_utils.py:1162] 2020-12-13 16:19:48,531 >> https://huggingface.co/bert-base-cased/resolve/main/tokenizer.json not found in cache or force_download set to True, downloading to /root/.cache/torch/transformers/tmpxjw1bd_z\n",
            "Downloading: 100% 436k/436k [00:00<00:00, 1.04MB/s]\n",
            "[INFO|file_utils.py:1166] 2020-12-13 16:19:49,220 >> storing https://huggingface.co/bert-base-cased/resolve/main/tokenizer.json in cache at /root/.cache/torch/transformers/226a307193a9f4344264cdc76a12988448a25345ba172f2c7421f3b6810fddad.3dab63143af66769bbb35e3811f75f7e16b2320e12b7935e216bd6159ce6d9a6\n",
            "[INFO|file_utils.py:1169] 2020-12-13 16:19:49,220 >> creating metadata file for /root/.cache/torch/transformers/226a307193a9f4344264cdc76a12988448a25345ba172f2c7421f3b6810fddad.3dab63143af66769bbb35e3811f75f7e16b2320e12b7935e216bd6159ce6d9a6\n",
            "12/13/2020 16:19:49 - INFO - filelock -   Lock 140063359875616 released on /root/.cache/torch/transformers/226a307193a9f4344264cdc76a12988448a25345ba172f2c7421f3b6810fddad.3dab63143af66769bbb35e3811f75f7e16b2320e12b7935e216bd6159ce6d9a6.lock\n",
            "[INFO|tokenization_utils_base.py:1650] 2020-12-13 16:19:49,220 >> loading file https://huggingface.co/bert-base-cased/resolve/main/vocab.txt from cache at /root/.cache/torch/transformers/6508e60ab3c1200bffa26c95f4b58ac6b6d95fba4db1f195f632fa3cd7bc64cc.437aa611e89f6fc6675a049d2b5545390adbc617e7d655286421c191d2be2791\n",
            "[INFO|tokenization_utils_base.py:1650] 2020-12-13 16:19:49,220 >> loading file https://huggingface.co/bert-base-cased/resolve/main/tokenizer.json from cache at /root/.cache/torch/transformers/226a307193a9f4344264cdc76a12988448a25345ba172f2c7421f3b6810fddad.3dab63143af66769bbb35e3811f75f7e16b2320e12b7935e216bd6159ce6d9a6\n",
            "12/13/2020 16:19:49 - INFO - filelock -   Lock 140063359874720 acquired on /root/.cache/torch/transformers/092cc582560fc3833e556b3f833695c26343cb54b7e88cd02d40821462a74999.1f48cab6c959fc6c360d22bea39d06959e90f5b002e77e836d2da45464875cda.lock\n",
            "[INFO|file_utils.py:1162] 2020-12-13 16:19:49,506 >> https://huggingface.co/bert-base-cased/resolve/main/pytorch_model.bin not found in cache or force_download set to True, downloading to /root/.cache/torch/transformers/tmp75ifg2fd\n",
            "Downloading: 100% 436M/436M [00:05<00:00, 77.1MB/s]\n",
            "[INFO|file_utils.py:1166] 2020-12-13 16:19:55,210 >> storing https://huggingface.co/bert-base-cased/resolve/main/pytorch_model.bin in cache at /root/.cache/torch/transformers/092cc582560fc3833e556b3f833695c26343cb54b7e88cd02d40821462a74999.1f48cab6c959fc6c360d22bea39d06959e90f5b002e77e836d2da45464875cda\n",
            "[INFO|file_utils.py:1169] 2020-12-13 16:19:55,210 >> creating metadata file for /root/.cache/torch/transformers/092cc582560fc3833e556b3f833695c26343cb54b7e88cd02d40821462a74999.1f48cab6c959fc6c360d22bea39d06959e90f5b002e77e836d2da45464875cda\n",
            "12/13/2020 16:19:55 - INFO - filelock -   Lock 140063359874720 released on /root/.cache/torch/transformers/092cc582560fc3833e556b3f833695c26343cb54b7e88cd02d40821462a74999.1f48cab6c959fc6c360d22bea39d06959e90f5b002e77e836d2da45464875cda.lock\n",
            "[INFO|modeling_utils.py:940] 2020-12-13 16:19:55,210 >> loading weights file https://huggingface.co/bert-base-cased/resolve/main/pytorch_model.bin from cache at /root/.cache/torch/transformers/092cc582560fc3833e556b3f833695c26343cb54b7e88cd02d40821462a74999.1f48cab6c959fc6c360d22bea39d06959e90f5b002e77e836d2da45464875cda\n",
            "[WARNING|modeling_utils.py:1048] 2020-12-13 16:19:58,988 >> Some weights of the model checkpoint at bert-base-cased were not used when initializing BertForMaskedLM: ['cls.seq_relationship.weight', 'cls.seq_relationship.bias']\n",
            "- This IS expected if you are initializing BertForMaskedLM from the checkpoint of a model trained on another task or with another architecture (e.g. initializing a BertForSequenceClassification model from a BertForPreTraining model).\n",
            "- This IS NOT expected if you are initializing BertForMaskedLM from the checkpoint of a model that you expect to be exactly identical (initializing a BertForSequenceClassification model from a BertForSequenceClassification model).\n",
            "[INFO|modeling_utils.py:1065] 2020-12-13 16:19:58,988 >> All the weights of BertForMaskedLM were initialized from the model checkpoint at bert-base-cased.\n",
            "If your task is similar to the task the model of the checkpoint was trained on, you can already use BertForMaskedLM for predictions without further training.\n",
            "100% 4/4 [00:00<00:00,  9.45ba/s]\n",
            "100% 1/1 [00:00<00:00, 18.45ba/s]\n",
            "[INFO|trainer.py:388] 2020-12-13 16:20:03,530 >> The following columns in the training set don't have a corresponding argument in `BertForMaskedLM.forward` and have been ignored: special_tokens_mask.\n",
            "[INFO|trainer.py:388] 2020-12-13 16:20:03,531 >> The following columns in the evaluation set don't have a corresponding argument in `BertForMaskedLM.forward` and have been ignored: special_tokens_mask.\n",
            "[INFO|trainer.py:693] 2020-12-13 16:20:03,534 >> ***** Running training *****\n",
            "[INFO|trainer.py:694] 2020-12-13 16:20:03,534 >>   Num examples = 3227\n",
            "[INFO|trainer.py:695] 2020-12-13 16:20:03,534 >>   Num Epochs = 3\n",
            "[INFO|trainer.py:696] 2020-12-13 16:20:03,535 >>   Instantaneous batch size per device = 8\n",
            "[INFO|trainer.py:697] 2020-12-13 16:20:03,535 >>   Total train batch size (w. parallel, distributed & accumulation) = 8\n",
            "[INFO|trainer.py:698] 2020-12-13 16:20:03,535 >>   Gradient Accumulation steps = 1\n",
            "[INFO|trainer.py:699] 2020-12-13 16:20:03,535 >>   Total optimization steps = 1212\n",
            "{'loss': 3.41829150390625, 'learning_rate': 2.9372937293729375e-05, 'epoch': 1.2376237623762376}\n",
            " 41% 500/1212 [01:05<01:27,  8.13it/s][INFO|trainer.py:1222] 2020-12-13 16:21:08,607 >> Saving model checkpoint to /tmp/test-mlm-bert-1c/checkpoint-500\n",
            "[INFO|configuration_utils.py:282] 2020-12-13 16:21:08,608 >> Configuration saved in /tmp/test-mlm-bert-1c/checkpoint-500/config.json\n",
            "[INFO|modeling_utils.py:740] 2020-12-13 16:21:09,871 >> Model weights saved in /tmp/test-mlm-bert-1c/checkpoint-500/pytorch_model.bin\n",
            "{'loss': 3.029552734375, 'learning_rate': 8.745874587458746e-06, 'epoch': 2.4752475247524752}\n",
            " 83% 1000/1212 [02:14<00:24,  8.51it/s][INFO|trainer.py:1222] 2020-12-13 16:22:17,878 >> Saving model checkpoint to /tmp/test-mlm-bert-1c/checkpoint-1000\n",
            "[INFO|configuration_utils.py:282] 2020-12-13 16:22:17,880 >> Configuration saved in /tmp/test-mlm-bert-1c/checkpoint-1000/config.json\n",
            "[INFO|modeling_utils.py:740] 2020-12-13 16:22:19,206 >> Model weights saved in /tmp/test-mlm-bert-1c/checkpoint-1000/pytorch_model.bin\n",
            "100% 1211/1212 [02:46<00:00,  8.17it/s][INFO|trainer.py:829] 2020-12-13 16:22:50,106 >> \n",
            "\n",
            "Training completed. Do not forget to share your model on huggingface.co/models =)\n",
            "\n",
            "\n",
            "{'epoch': 3.0}\n",
            "100% 1212/1212 [02:46<00:00,  7.28it/s]\n",
            "[INFO|trainer.py:1222] 2020-12-13 16:22:50,107 >> Saving model checkpoint to /tmp/test-mlm-bert-1c\n",
            "[INFO|configuration_utils.py:282] 2020-12-13 16:22:50,109 >> Configuration saved in /tmp/test-mlm-bert-1c/config.json\n",
            "[INFO|modeling_utils.py:740] 2020-12-13 16:22:51,547 >> Model weights saved in /tmp/test-mlm-bert-1c/pytorch_model.bin\n",
            "12/13/2020 16:22:51 - INFO - __main__ -   *** Evaluate ***\n",
            "[INFO|trainer.py:1387] 2020-12-13 16:22:51,582 >> ***** Running Evaluation *****\n",
            "[INFO|trainer.py:1388] 2020-12-13 16:22:51,582 >>   Num examples = 418\n",
            "[INFO|trainer.py:1389] 2020-12-13 16:22:51,582 >>   Batch size = 8\n",
            "100% 53/53 [00:01<00:00, 31.76it/s]\n",
            "12/13/2020 16:22:53 - INFO - __main__ -   ***** Eval results *****\n",
            "12/13/2020 16:22:53 - INFO - __main__ -     perplexity = 19.494876019835832\n"
          ],
          "name": "stdout"
        }
      ]
    },
    {
      "cell_type": "markdown",
      "metadata": {
        "id": "ZTGDgx6xVXdA"
      },
      "source": [
        "# Evaluation function"
      ]
    },
    {
      "cell_type": "markdown",
      "metadata": {
        "id": "NFdMf8IlUuyB"
      },
      "source": [
        "Function for passing data to model for evaluation."
      ]
    },
    {
      "cell_type": "markdown",
      "metadata": {
        "id": "lh8EugnBVT-f"
      },
      "source": [
        "For each sample in test data, the following functions rank each context sentence by similarity to the question without placeholder. The top 2 sentences with the question and list of options are passed to FitBERT whihc uses the custom model trained above.\n"
      ]
    },
    {
      "cell_type": "code",
      "metadata": {
        "id": "Rp0mbrlk47HU"
      },
      "source": [
        "def most_similar(doc_id,similarity_matrix,matrix,df):\n",
        "    if matrix=='Cosine Similarity':\n",
        "        similar_ix=np.argsort(similarity_matrix[doc_id])[::-1]\n",
        "    elif matrix=='Euclidean Distance':\n",
        "        similar_ix=np.argsort(similarity_matrix[doc_id])\n",
        "    return similar_ix[1:]\n",
        "\n",
        "def top_similar(df, num, predname=''):\n",
        "  preds = np.zeros(df.shape[0])\n",
        "  pred_labels = np.zeros(df.shape[0])\n",
        "  for idx, row in df.iterrows():\n",
        "    ques = row['question']\n",
        "    passage = row['article']\n",
        "\n",
        "    ques = ques.replace('@placeholder', '')\n",
        "\n",
        "    docs = passage.split('. ')\n",
        "    docs.insert(0, ques)\n",
        "\n",
        "    temp_df = pd.DataFrame(docs,columns=['sentences'])\n",
        "    temp_df['cleaned']=temp_df.sentences.apply(lambda x: \" \".join(re.sub(r'[^a-zA-Z]',' ',w).lower() for w in x.split() if re.sub(r'[^a-zA-Z]',' ',w).lower() not in stop_words_l))\n",
        "    \n",
        "    document_embeddings = sbert_model.encode(temp_df['cleaned'])\n",
        "    pairwise_similarities=cosine_similarity(document_embeddings)\n",
        "\n",
        "    top_sen = most_similar(0,pairwise_similarities,'Cosine Similarity', temp_df)[:num]\n",
        "\n",
        "    len_ques = len(tokenizer.tokenize(row['question']))\n",
        "    sim_sent = [docs[x] for x in top_sen]\n",
        "    len_pass = len(tokenizer.tokenize(' '.join(sim_sent)))\n",
        "\n",
        "    masked_string = ' '.join(sim_sent) + row['question']\n",
        "\n",
        "    options=[]\n",
        "    for i in range(5):\n",
        "      options.append(row['option_'+str(i)])\n",
        "    \n",
        "    ranked = fb.rank(masked_string, options)\n",
        "\n",
        "    pred_labels[idx] = options.index(ranked[0])\n",
        "\n",
        "  print(np.sum(preds)/preds.shape[0])\n",
        "  np.savetxt(predname+'.txt', pred_labels)\n",
        "  del preds"
      ],
      "execution_count": null,
      "outputs": []
    },
    {
      "cell_type": "markdown",
      "metadata": {
        "id": "mxPqhKZgk9xd"
      },
      "source": [
        "Load model trained with context."
      ]
    },
    {
      "cell_type": "code",
      "metadata": {
        "colab": {
          "base_uri": "https://localhost:8080/"
        },
        "id": "OPKwjrjYk9xe",
        "outputId": "d0976857-ec0f-4f38-d2df-882fd5b1bad8"
      },
      "source": [
        "model_path = '/tmp/test-mlm-bert-1c-3'\n",
        "from transformers import AutoModelForMaskedLM, AutoConfig, AutoTokenizer\n",
        "config = AutoConfig.from_pretrained(model_path)\n",
        "model = AutoModelForMaskedLM.from_pretrained(\n",
        "            model_path,\n",
        "            config=config,\n",
        "        )\n",
        "tokenizer = AutoTokenizer.from_pretrained(\n",
        "            model_path\n",
        "        )\n",
        "from fitbert import FitBert\n",
        "fb = FitBert(model=model, tokenizer=tokenizer, mask_token='@placeholder')"
      ],
      "execution_count": null,
      "outputs": [
        {
          "output_type": "stream",
          "text": [
            "device: cuda\n",
            "using custom model: ['BertForMaskedLM']\n"
          ],
          "name": "stdout"
        }
      ]
    },
    {
      "cell_type": "markdown",
      "metadata": {
        "id": "yusUee8MV50P"
      },
      "source": [
        "# Predict labels for test data set."
      ]
    },
    {
      "cell_type": "markdown",
      "metadata": {
        "id": "NItsZ2memz-7"
      },
      "source": [
        "Clean the test data."
      ]
    },
    {
      "cell_type": "code",
      "metadata": {
        "id": "US9_b0HBm5l_"
      },
      "source": [
        "import nltk\n",
        "nltk.download('stopwords')\n",
        "from nltk.corpus import stopwords\n",
        "stop = stopwords.words('english')\n",
        "\n",
        "def clean_data(data_path, fname):\n",
        "    data = pd.read_csv(data_path)\n",
        "    remove_words = ['Mr.', 'Mr', 'Mrs.', 'Mrs', 'said', 'bbc', 'said:', 'said.', 'said,', 'said:\"', 'said.\"', 'said,\"', 'we re', 'we ve', 'told', \\\n",
        "                'Media playback is not supported on this device', 'Media playback is not supported on this device.', \\\n",
        "                'Media playback supported device', 'Media playback supported device.', '\\'Media playback supported device', \\\n",
        "                'media playback unsupported device', 'Media playback is unsupported on your device', \\\n",
        "                'Follow us on Facebook , on Twitter @BBCNewsEnts , or on Instagram at newsents . If you have a story suggestion email entertainment.news@.co.uk .', \\\n",
        "                'Follow us on Twitter @BBCNewsEnts , on Instagram , or if you have a story suggestion email entertainment.news@.co.uk .', \\\n",
        "                'Follow us on @BBCNewsEnts , on Instagram at newsents , or if you have a story suggestion email entertainment.news@.co.uk', \\\n",
        "                'Follow us on @BBCNewsEnts , on Instagram , or if you have a story suggestion email entertainment.news@.co.uk', \\\n",
        "                'Last updated at', 'Subscribe to the BBC Sport newsletter to get our pick of news , features and video sent to your inbox .']\n",
        "    for i in remove_words:\n",
        "        data['article'] = data['article'].str.replace(i, '')\n",
        "    data['article'] = data['article'].apply(lambda x: ' '.join([word for word in x.split() if word not in (stop)]))\n",
        "    data.to_csv(fname, index = False)\n",
        "    \n",
        "paths = ['/content/task1_test_old.csv', '/content/task2_test_old.csv']\n",
        "clean_data(paths[0], \"/content/task1_test.csv\")\n",
        "clean_data(paths[1], \"/content/task2_test.csv\")"
      ],
      "execution_count": null,
      "outputs": []
    },
    {
      "cell_type": "markdown",
      "metadata": {
        "id": "j5W4xJOsVF5Z"
      },
      "source": [
        "Modify this to the test data file path."
      ]
    },
    {
      "cell_type": "code",
      "metadata": {
        "id": "BMGI9P44k9xe"
      },
      "source": [
        "test_path = '/content/task1_test.csv'"
      ],
      "execution_count": null,
      "outputs": []
    },
    {
      "cell_type": "markdown",
      "metadata": {
        "id": "W6AADYDHXKDi"
      },
      "source": [
        "Saves the predicted labels as a text file."
      ]
    },
    {
      "cell_type": "code",
      "metadata": {
        "id": "JKQtvzh_k9xf"
      },
      "source": [
        "df = pd.read_csv(test_path) #reading test data\n",
        "top_similar(df, 3, 'task1_predicted') #evaluation function"
      ],
      "execution_count": null,
      "outputs": []
    },
    {
      "cell_type": "markdown",
      "metadata": {
        "id": "GSlH5wdslwxp"
      },
      "source": [
        "## Task 3 "
      ]
    },
    {
      "cell_type": "markdown",
      "metadata": {
        "id": "LnEXZwYKlzMj"
      },
      "source": [
        "Task 3 is using the model of Task 1 to predict values on the test data of Task 2."
      ]
    },
    {
      "cell_type": "code",
      "metadata": {
        "id": "u7yiCql6l856"
      },
      "source": [
        "test_path = '/content/task2_test.csv'"
      ],
      "execution_count": null,
      "outputs": []
    },
    {
      "cell_type": "code",
      "metadata": {
        "id": "LpFKBe0DmA8U"
      },
      "source": [
        "df = pd.read_csv(test_path) #reading test data\n",
        "top_similar(df, 3, 'task1-train-task2-test') #evaluation function"
      ],
      "execution_count": null,
      "outputs": []
    },
    {
      "cell_type": "markdown",
      "metadata": {
        "id": "NIbZOqUIX2cm"
      },
      "source": [
        "# Evaluation script for TAs"
      ]
    },
    {
      "cell_type": "markdown",
      "metadata": {
        "id": "YMWW5cWiZT3J"
      },
      "source": [
        "Outputs accuracy by comparing both label files."
      ]
    },
    {
      "cell_type": "markdown",
      "metadata": {
        "id": "fdxmgXHzZXmq"
      },
      "source": [
        "True labels file should have one label on each line, with no headers."
      ]
    },
    {
      "cell_type": "markdown",
      "metadata": {
        "id": "SpX0B28nmmkP"
      },
      "source": [
        "Accuracy for Task 1"
      ]
    },
    {
      "cell_type": "code",
      "metadata": {
        "id": "ry36zh4FYsDI"
      },
      "source": [
        "pred = 'task1_predicted.txt' # modify this to predicted labels file path\n",
        "actual = '' # modify this to true labels file path\n",
        "f1 = open(pred)\n",
        "predv = np.loadtxt(pred)\n",
        "f1.close()\n",
        "f1 = open(actual)\n",
        "truev = np.loadtxt(actual)\n",
        "f1.close()\n",
        "\n",
        "matches = np.equal(predv, truev)\n",
        "acc = np.sum(matches) / matches.size\n",
        "print(\"Accuracy is\", acc*100)"
      ],
      "execution_count": null,
      "outputs": []
    },
    {
      "cell_type": "markdown",
      "metadata": {
        "id": "kUPW14F4mh6T"
      },
      "source": [
        "Accuracy for Task 3"
      ]
    },
    {
      "cell_type": "code",
      "metadata": {
        "id": "tP2EmKhOmfSc"
      },
      "source": [
        "pred = 'task1-train-task2-test.txt' # modify this to predicted labels file path\n",
        "actual = '' # modify this to true labels file path\n",
        "f1 = open(pred)\n",
        "predv = np.loadtxt(pred)\n",
        "f1.close()\n",
        "f1 = open(actual)\n",
        "truev = np.loadtxt(actual)\n",
        "f1.close()\n",
        "\n",
        "matches = np.equal(predv, truev)\n",
        "acc = np.sum(matches) / matches.size\n",
        "print(\"Accuracy is\", acc*100)"
      ],
      "execution_count": null,
      "outputs": []
    }
  ]
}