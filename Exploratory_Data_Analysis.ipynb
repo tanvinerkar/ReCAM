{
  "nbformat": 4,
  "nbformat_minor": 0,
  "metadata": {
    "colab": {
      "name": "EDA-Task1.ipynb",
      "provenance": [],
      "collapsed_sections": [],
      "toc_visible": true
    },
    "kernelspec": {
      "display_name": "Python 3",
      "name": "python3"
    }
  },
  "cells": [
    {
      "cell_type": "code",
      "metadata": {
        "colab": {
          "base_uri": "https://localhost:8080/"
        },
        "id": "vPXM4rm64_A0",
        "outputId": "cec38bed-ed53-44f6-91e2-954215f3be6a"
      },
      "source": [
        "!pip install \\\n",
        "   pandas matplotlib numpy \\\n",
        "   nltk seaborn sklearn gensim pyldavis \\\n",
        "   wordcloud textblob spacy textstat"
      ],
      "execution_count": 1,
      "outputs": [
        {
          "output_type": "stream",
          "text": [
            "Requirement already satisfied: pandas in /usr/local/lib/python3.6/dist-packages (1.1.5)\n",
            "Requirement already satisfied: matplotlib in /usr/local/lib/python3.6/dist-packages (3.2.2)\n",
            "Requirement already satisfied: numpy in /usr/local/lib/python3.6/dist-packages (1.18.5)\n",
            "Requirement already satisfied: nltk in /usr/local/lib/python3.6/dist-packages (3.2.5)\n",
            "Requirement already satisfied: seaborn in /usr/local/lib/python3.6/dist-packages (0.11.0)\n",
            "Requirement already satisfied: sklearn in /usr/local/lib/python3.6/dist-packages (0.0)\n",
            "Requirement already satisfied: gensim in /usr/local/lib/python3.6/dist-packages (3.6.0)\n",
            "Collecting pyldavis\n",
            "\u001b[?25l  Downloading https://files.pythonhosted.org/packages/a5/3a/af82e070a8a96e13217c8f362f9a73e82d61ac8fff3a2561946a97f96266/pyLDAvis-2.1.2.tar.gz (1.6MB)\n",
            "\u001b[K     |████████████████████████████████| 1.6MB 4.3MB/s \n",
            "\u001b[?25hRequirement already satisfied: wordcloud in /usr/local/lib/python3.6/dist-packages (1.5.0)\n",
            "Requirement already satisfied: textblob in /usr/local/lib/python3.6/dist-packages (0.15.3)\n",
            "Requirement already satisfied: spacy in /usr/local/lib/python3.6/dist-packages (2.2.4)\n",
            "Collecting textstat\n",
            "\u001b[?25l  Downloading https://files.pythonhosted.org/packages/ca/b1/ab40a00b727a0d209402d1be6aa3f1bc75bd03678b59ace8507b08bf12f5/textstat-0.7.0-py3-none-any.whl (99kB)\n",
            "\u001b[K     |████████████████████████████████| 102kB 9.1MB/s \n",
            "\u001b[?25hRequirement already satisfied: pytz>=2017.2 in /usr/local/lib/python3.6/dist-packages (from pandas) (2018.9)\n",
            "Requirement already satisfied: python-dateutil>=2.7.3 in /usr/local/lib/python3.6/dist-packages (from pandas) (2.8.1)\n",
            "Requirement already satisfied: pyparsing!=2.0.4,!=2.1.2,!=2.1.6,>=2.0.1 in /usr/local/lib/python3.6/dist-packages (from matplotlib) (2.4.7)\n",
            "Requirement already satisfied: kiwisolver>=1.0.1 in /usr/local/lib/python3.6/dist-packages (from matplotlib) (1.3.1)\n",
            "Requirement already satisfied: cycler>=0.10 in /usr/local/lib/python3.6/dist-packages (from matplotlib) (0.10.0)\n",
            "Requirement already satisfied: six in /usr/local/lib/python3.6/dist-packages (from nltk) (1.15.0)\n",
            "Requirement already satisfied: scipy>=1.0 in /usr/local/lib/python3.6/dist-packages (from seaborn) (1.4.1)\n",
            "Requirement already satisfied: scikit-learn in /usr/local/lib/python3.6/dist-packages (from sklearn) (0.22.2.post1)\n",
            "Requirement already satisfied: smart-open>=1.2.1 in /usr/local/lib/python3.6/dist-packages (from gensim) (4.0.1)\n",
            "Requirement already satisfied: wheel>=0.23.0 in /usr/local/lib/python3.6/dist-packages (from pyldavis) (0.36.1)\n",
            "Requirement already satisfied: joblib>=0.8.4 in /usr/local/lib/python3.6/dist-packages (from pyldavis) (0.17.0)\n",
            "Requirement already satisfied: jinja2>=2.7.2 in /usr/local/lib/python3.6/dist-packages (from pyldavis) (2.11.2)\n",
            "Requirement already satisfied: numexpr in /usr/local/lib/python3.6/dist-packages (from pyldavis) (2.7.1)\n",
            "Requirement already satisfied: pytest in /usr/local/lib/python3.6/dist-packages (from pyldavis) (3.6.4)\n",
            "Requirement already satisfied: future in /usr/local/lib/python3.6/dist-packages (from pyldavis) (0.16.0)\n",
            "Collecting funcy\n",
            "  Downloading https://files.pythonhosted.org/packages/66/89/479de0afbbfb98d1c4b887936808764627300208bb771fcd823403645a36/funcy-1.15-py2.py3-none-any.whl\n",
            "Requirement already satisfied: pillow in /usr/local/lib/python3.6/dist-packages (from wordcloud) (7.0.0)\n",
            "Requirement already satisfied: thinc==7.4.0 in /usr/local/lib/python3.6/dist-packages (from spacy) (7.4.0)\n",
            "Requirement already satisfied: setuptools in /usr/local/lib/python3.6/dist-packages (from spacy) (50.3.2)\n",
            "Requirement already satisfied: plac<1.2.0,>=0.9.6 in /usr/local/lib/python3.6/dist-packages (from spacy) (1.1.3)\n",
            "Requirement already satisfied: cymem<2.1.0,>=2.0.2 in /usr/local/lib/python3.6/dist-packages (from spacy) (2.0.5)\n",
            "Requirement already satisfied: preshed<3.1.0,>=3.0.2 in /usr/local/lib/python3.6/dist-packages (from spacy) (3.0.5)\n",
            "Requirement already satisfied: wasabi<1.1.0,>=0.4.0 in /usr/local/lib/python3.6/dist-packages (from spacy) (0.8.0)\n",
            "Requirement already satisfied: catalogue<1.1.0,>=0.0.7 in /usr/local/lib/python3.6/dist-packages (from spacy) (1.0.0)\n",
            "Requirement already satisfied: blis<0.5.0,>=0.4.0 in /usr/local/lib/python3.6/dist-packages (from spacy) (0.4.1)\n",
            "Requirement already satisfied: tqdm<5.0.0,>=4.38.0 in /usr/local/lib/python3.6/dist-packages (from spacy) (4.41.1)\n",
            "Requirement already satisfied: requests<3.0.0,>=2.13.0 in /usr/local/lib/python3.6/dist-packages (from spacy) (2.23.0)\n",
            "Requirement already satisfied: murmurhash<1.1.0,>=0.28.0 in /usr/local/lib/python3.6/dist-packages (from spacy) (1.0.5)\n",
            "Requirement already satisfied: srsly<1.1.0,>=1.0.2 in /usr/local/lib/python3.6/dist-packages (from spacy) (1.0.5)\n",
            "Collecting pyphen\n",
            "\u001b[?25l  Downloading https://files.pythonhosted.org/packages/7c/5a/5bc036e01389bc6a6667a932bac3e388de6e7fa5777a6ff50e652f60ec79/Pyphen-0.10.0-py3-none-any.whl (1.9MB)\n",
            "\u001b[K     |████████████████████████████████| 1.9MB 22.5MB/s \n",
            "\u001b[?25hRequirement already satisfied: MarkupSafe>=0.23 in /usr/local/lib/python3.6/dist-packages (from jinja2>=2.7.2->pyldavis) (1.1.1)\n",
            "Requirement already satisfied: py>=1.5.0 in /usr/local/lib/python3.6/dist-packages (from pytest->pyldavis) (1.9.0)\n",
            "Requirement already satisfied: more-itertools>=4.0.0 in /usr/local/lib/python3.6/dist-packages (from pytest->pyldavis) (8.6.0)\n",
            "Requirement already satisfied: attrs>=17.4.0 in /usr/local/lib/python3.6/dist-packages (from pytest->pyldavis) (20.3.0)\n",
            "Requirement already satisfied: pluggy<0.8,>=0.5 in /usr/local/lib/python3.6/dist-packages (from pytest->pyldavis) (0.7.1)\n",
            "Requirement already satisfied: atomicwrites>=1.0 in /usr/local/lib/python3.6/dist-packages (from pytest->pyldavis) (1.4.0)\n",
            "Requirement already satisfied: importlib-metadata>=0.20; python_version < \"3.8\" in /usr/local/lib/python3.6/dist-packages (from catalogue<1.1.0,>=0.0.7->spacy) (3.1.1)\n",
            "Requirement already satisfied: certifi>=2017.4.17 in /usr/local/lib/python3.6/dist-packages (from requests<3.0.0,>=2.13.0->spacy) (2020.12.5)\n",
            "Requirement already satisfied: urllib3!=1.25.0,!=1.25.1,<1.26,>=1.21.1 in /usr/local/lib/python3.6/dist-packages (from requests<3.0.0,>=2.13.0->spacy) (1.24.3)\n",
            "Requirement already satisfied: idna<3,>=2.5 in /usr/local/lib/python3.6/dist-packages (from requests<3.0.0,>=2.13.0->spacy) (2.10)\n",
            "Requirement already satisfied: chardet<4,>=3.0.2 in /usr/local/lib/python3.6/dist-packages (from requests<3.0.0,>=2.13.0->spacy) (3.0.4)\n",
            "Requirement already satisfied: zipp>=0.5 in /usr/local/lib/python3.6/dist-packages (from importlib-metadata>=0.20; python_version < \"3.8\"->catalogue<1.1.0,>=0.0.7->spacy) (3.4.0)\n",
            "Building wheels for collected packages: pyldavis\n",
            "  Building wheel for pyldavis (setup.py) ... \u001b[?25l\u001b[?25hdone\n",
            "  Created wheel for pyldavis: filename=pyLDAvis-2.1.2-py2.py3-none-any.whl size=97711 sha256=0c2545f16a5a4b2e5a6830ee764b5bd8b7469b04636b7dba17681751d9786d11\n",
            "  Stored in directory: /root/.cache/pip/wheels/98/71/24/513a99e58bb6b8465bae4d2d5e9dba8f0bef8179e3051ac414\n",
            "Successfully built pyldavis\n",
            "Installing collected packages: funcy, pyldavis, pyphen, textstat\n",
            "Successfully installed funcy-1.15 pyldavis-2.1.2 pyphen-0.10.0 textstat-0.7.0\n"
          ],
          "name": "stdout"
        }
      ]
    },
    {
      "cell_type": "code",
      "metadata": {
        "id": "hw6IS1A25QJ6"
      },
      "source": [
        "!cp -r drive/My\\ Drive/recam/original_data/* ."
      ],
      "execution_count": 2,
      "outputs": []
    },
    {
      "cell_type": "code",
      "metadata": {
        "colab": {
          "base_uri": "https://localhost:8080/"
        },
        "id": "3NDuoqXj5Qde",
        "outputId": "dbf0bd51-6ec2-4030-f784-488c43397309"
      },
      "source": [
        "import pandas as pd\n",
        "import numpy as np\n",
        "import nltk\n",
        "from nltk.corpus import stopwords\n",
        "from nltk.stem import PorterStemmer\n",
        "from nltk.stem.wordnet import WordNetLemmatizer\n",
        "from nltk.tokenize import word_tokenize\n",
        "nltk.download('punkt')\n",
        "nltk.download('wordnet')\n",
        "\n",
        "import gensim\n",
        "from matplotlib import pyplot as plt\n",
        "from collections import Counter\n",
        "import seaborn as sns\n",
        "from sklearn.feature_extraction.text import CountVectorizer"
      ],
      "execution_count": 3,
      "outputs": [
        {
          "output_type": "stream",
          "text": [
            "[nltk_data] Downloading package punkt to /root/nltk_data...\n",
            "[nltk_data]   Unzipping tokenizers/punkt.zip.\n",
            "[nltk_data] Downloading package wordnet to /root/nltk_data...\n",
            "[nltk_data]   Unzipping corpora/wordnet.zip.\n"
          ],
          "name": "stdout"
        }
      ]
    },
    {
      "cell_type": "code",
      "metadata": {
        "colab": {
          "base_uri": "https://localhost:8080/",
          "height": 262
        },
        "id": "cd4E3pBx5QkB",
        "outputId": "e6c0433b-4c4e-4e35-c72c-62ac3c007c43"
      },
      "source": [
        "data = pd.read_csv('Task1_train.csv')\n",
        "data.head(5)"
      ],
      "execution_count": 4,
      "outputs": [
        {
          "output_type": "execute_result",
          "data": {
            "text/html": [
              "<div>\n",
              "<style scoped>\n",
              "    .dataframe tbody tr th:only-of-type {\n",
              "        vertical-align: middle;\n",
              "    }\n",
              "\n",
              "    .dataframe tbody tr th {\n",
              "        vertical-align: top;\n",
              "    }\n",
              "\n",
              "    .dataframe thead th {\n",
              "        text-align: right;\n",
              "    }\n",
              "</style>\n",
              "<table border=\"1\" class=\"dataframe\">\n",
              "  <thead>\n",
              "    <tr style=\"text-align: right;\">\n",
              "      <th></th>\n",
              "      <th>article</th>\n",
              "      <th>question</th>\n",
              "      <th>option_0</th>\n",
              "      <th>option_1</th>\n",
              "      <th>option_2</th>\n",
              "      <th>option_3</th>\n",
              "      <th>option_4</th>\n",
              "      <th>label</th>\n",
              "    </tr>\n",
              "  </thead>\n",
              "  <tbody>\n",
              "    <tr>\n",
              "      <th>0</th>\n",
              "      <td>The Trainspotting author has agreed to become ...</td>\n",
              "      <td>Irvine Welsh is to spearhead a campaign aimed ...</td>\n",
              "      <td>neglected</td>\n",
              "      <td>renewed</td>\n",
              "      <td>lavish</td>\n",
              "      <td>revised</td>\n",
              "      <td>proposed</td>\n",
              "      <td>0</td>\n",
              "    </tr>\n",
              "    <tr>\n",
              "      <th>1</th>\n",
              "      <td>The economy of the 28-nation EU is set to grow...</td>\n",
              "      <td>The economic recovery within the European Unio...</td>\n",
              "      <td>special</td>\n",
              "      <td>fair</td>\n",
              "      <td>remarkable</td>\n",
              "      <td>modest</td>\n",
              "      <td>similar</td>\n",
              "      <td>3</td>\n",
              "    </tr>\n",
              "    <tr>\n",
              "      <th>2</th>\n",
              "      <td>The facility, based on the town's Crichton est...</td>\n",
              "      <td>Councillors are to be given a progress report ...</td>\n",
              "      <td>temporary</td>\n",
              "      <td>controversial</td>\n",
              "      <td>lasting</td>\n",
              "      <td>national</td>\n",
              "      <td>special</td>\n",
              "      <td>3</td>\n",
              "    </tr>\n",
              "    <tr>\n",
              "      <th>3</th>\n",
              "      <td>The Scottish golf club said a recent consultat...</td>\n",
              "      <td>Royal Troon members have voted \" overwhelmingl...</td>\n",
              "      <td>special</td>\n",
              "      <td>past</td>\n",
              "      <td>forthcoming</td>\n",
              "      <td>potential</td>\n",
              "      <td>prestigious</td>\n",
              "      <td>0</td>\n",
              "    </tr>\n",
              "    <tr>\n",
              "      <th>4</th>\n",
              "      <td>Former Aberdeen and Manchester United manager ...</td>\n",
              "      <td>Sir Alex Ferguson and Annie Lennox are among t...</td>\n",
              "      <td>latest</td>\n",
              "      <td>free</td>\n",
              "      <td>best</td>\n",
              "      <td>major</td>\n",
              "      <td>famous</td>\n",
              "      <td>4</td>\n",
              "    </tr>\n",
              "  </tbody>\n",
              "</table>\n",
              "</div>"
            ],
            "text/plain": [
              "                                             article  ... label\n",
              "0  The Trainspotting author has agreed to become ...  ...     0\n",
              "1  The economy of the 28-nation EU is set to grow...  ...     3\n",
              "2  The facility, based on the town's Crichton est...  ...     3\n",
              "3  The Scottish golf club said a recent consultat...  ...     0\n",
              "4  Former Aberdeen and Manchester United manager ...  ...     4\n",
              "\n",
              "[5 rows x 8 columns]"
            ]
          },
          "metadata": {
            "tags": []
          },
          "execution_count": 4
        }
      ]
    },
    {
      "cell_type": "markdown",
      "metadata": {
        "id": "ROONhKBoAygx"
      },
      "source": [
        "# Named Entity Recognition"
      ]
    },
    {
      "cell_type": "code",
      "metadata": {
        "id": "tZBwseKcAune"
      },
      "source": [
        "import spacy\n",
        "nlp = spacy.load('en_core_web_sm')"
      ],
      "execution_count": 5,
      "outputs": []
    },
    {
      "cell_type": "code",
      "metadata": {
        "id": "lMGA6WXPc9XO"
      },
      "source": [
        "# sentence = \"Two bombs ripped through the Kuta area of the Indonesian tourist @placeholder of Bali on 12 October 2002 , leaving 202 people dead . Among those killed at Paddy \\'s Irish Bar and the nearby Sari Club were people from 21 countries , including 88 Australians , 38 Indonesians and 28 Britons.\"\n",
        "# doc = nlp(sentence) \n",
        "# print(doc.ents)\n",
        "# # for token in doc: \n",
        "# #   print(token, token.pos_) \n",
        "# for token in doc: \n",
        "#   print(token, token.pos_) "
      ],
      "execution_count": 6,
      "outputs": []
    },
    {
      "cell_type": "code",
      "metadata": {
        "id": "V-3UVLmDKkd7"
      },
      "source": [
        "# # nouns = \" \".join([token.orth_ for token in doc if token.pos_ =='NOUN'])\r\n",
        "# # nouns\r\n",
        "# for np in doc.noun_chunks:\r\n",
        "#     print(np.text)"
      ],
      "execution_count": 7,
      "outputs": []
    },
    {
      "cell_type": "code",
      "metadata": {
        "id": "43nmZgQTrHML"
      },
      "source": [
        "# sentence = \"When @placeholder Olympic flyweight boxing champion Nicola Adams steps into the ring at Rio 2016 she will know exactly which tactics to deploy to ensure that she wins every fight .\"\n",
        "# doc = nlp(sentence) \n",
        "# print(doc.ents)\n",
        "# for token in doc: \n",
        "#   print(token, token.pos_) "
      ],
      "execution_count": 8,
      "outputs": []
    },
    {
      "cell_type": "code",
      "metadata": {
        "id": "tifz_--6iznP"
      },
      "source": [
        "# import spacy \n",
        "  \n",
        "# nlp = spacy.load('en_core_web_sm') \n",
        "  \n",
        "# sentence = \"apple is looking at buying U.K. startup for $1 billion\"\n",
        "  \n",
        "# doc = nlp(sentence) \n",
        "# print(doc.ents)\n",
        "# # for ent in doc.ents: \n",
        "# #     print(ent.text, ent.start_char, ent.end_char, ent.label_) "
      ],
      "execution_count": 9,
      "outputs": []
    },
    {
      "cell_type": "code",
      "metadata": {
        "id": "fTLTGX6jA6v1"
      },
      "source": [
        "# ner_data = pd.read_csv('data/Task1/train/Task1_train.csv')\n",
        "# ner_data.head(5)"
      ],
      "execution_count": 10,
      "outputs": []
    },
    {
      "cell_type": "code",
      "metadata": {
        "id": "h3g02YwSAu8B"
      },
      "source": [
        "# text = ner_data['article'][41]\n",
        "# text"
      ],
      "execution_count": 11,
      "outputs": []
    },
    {
      "cell_type": "code",
      "metadata": {
        "id": "uY-SNGDmX51m"
      },
      "source": [
        "# q = data['question'][41]\n",
        "# q"
      ],
      "execution_count": 12,
      "outputs": []
    },
    {
      "cell_type": "code",
      "metadata": {
        "id": "MnIPag0r8THV"
      },
      "source": [
        "# print(ner_data['option_0'][128], ner_data['option_1'][128], ner_data['option_2'][128], ner_data['option_3'][128], ner_data['option_4'][128])"
      ],
      "execution_count": 13,
      "outputs": []
    },
    {
      "cell_type": "code",
      "metadata": {
        "id": "0plYOyFmAvEd"
      },
      "source": [
        "\n",
        "\n",
        "# text_data = ner_data['article'][4]\n",
        "\n",
        "# document = nlp(text_data)\n",
        "\n",
        "# text_no_namedentities = []\n",
        "\n",
        "# ents = [e.text for e in document.ents]\n",
        "# for item in document:\n",
        "#     if item.text in ents:\n",
        "#         pass\n",
        "#     else:\n",
        "#         text_no_namedentities.append(item.text)\n",
        "# print(\" \".join(text_no_namedentities))"
      ],
      "execution_count": 14,
      "outputs": []
    },
    {
      "cell_type": "code",
      "metadata": {
        "id": "5WKC5D8Lfxya"
      },
      "source": [
        "# text_data = ner_data['article'][2]\n",
        "# document = nlp(text_data)\n",
        "# print(\" \".join([ent.text for ent in document if ent.ent_type_!='PERSON']))"
      ],
      "execution_count": 15,
      "outputs": []
    },
    {
      "cell_type": "code",
      "metadata": {
        "id": "FhggUTZgAvIg"
      },
      "source": [
        "# doc = nlp(text)\n",
        "# for ent in doc.ents:\n",
        "#     print(ent.text, ent.start_char, ent.end_char, ent.label_)   "
      ],
      "execution_count": 16,
      "outputs": []
    },
    {
      "cell_type": "code",
      "metadata": {
        "id": "QdMRWa2wAvMW"
      },
      "source": [
        "# def ner(text_data):\n",
        "#     document = nlp(text_data)\n",
        "#     new_text = \" \".join([ent.text for ent in document if ent.ent_type_!='PERSON' and ent.ent_type_!='DATE' and ent.ent_type_!='TIME'])\n",
        "#     return new_text"
      ],
      "execution_count": 17,
      "outputs": []
    },
    {
      "cell_type": "code",
      "metadata": {
        "id": "9iv_cnJOAvVG"
      },
      "source": [
        "# data['article'] = data['article'].apply(ner)"
      ],
      "execution_count": 18,
      "outputs": []
    },
    {
      "cell_type": "code",
      "metadata": {
        "id": "s3gotPqcAvSp"
      },
      "source": [
        "# data['article'][128]"
      ],
      "execution_count": 19,
      "outputs": []
    },
    {
      "cell_type": "code",
      "metadata": {
        "id": "4eIlePoF5Qpz",
        "colab": {
          "base_uri": "https://localhost:8080/",
          "height": 282
        },
        "outputId": "77a4bc31-b343-4953-c042-4983a99b72e5"
      },
      "source": [
        "data['article'].str.len().hist(bins = 20)"
      ],
      "execution_count": 20,
      "outputs": [
        {
          "output_type": "execute_result",
          "data": {
            "text/plain": [
              "<matplotlib.axes._subplots.AxesSubplot at 0x7f56535b53c8>"
            ]
          },
          "metadata": {
            "tags": []
          },
          "execution_count": 20
        },
        {
          "output_type": "display_data",
          "data": {
            "image/png": "[encoded data removed]",
            "text/plain": [
              "<Figure size 432x288 with 1 Axes>"
            ]
          },
          "metadata": {
            "tags": [],
            "needs_background": "light"
          }
        }
      ]
    },
    {
      "cell_type": "markdown",
      "metadata": {
        "id": "O3puXHn06pll"
      },
      "source": [
        "The histogram shows that news headlines range from 10 to 70 characters and generally, it is between 25 to 55 characters."
      ]
    },
    {
      "cell_type": "code",
      "metadata": {
        "id": "0gtCuSrl5Qvk",
        "colab": {
          "base_uri": "https://localhost:8080/",
          "height": 282
        },
        "outputId": "e9cb1a8f-4156-4aa5-b22f-3700b2fb33b0"
      },
      "source": [
        "data['article'].str.split().\\\n",
        "    map(lambda x: len(x)).\\\n",
        "    hist(bins = 20)"
      ],
      "execution_count": 21,
      "outputs": [
        {
          "output_type": "execute_result",
          "data": {
            "text/plain": [
              "<matplotlib.axes._subplots.AxesSubplot at 0x7f5653366d68>"
            ]
          },
          "metadata": {
            "tags": []
          },
          "execution_count": 21
        },
        {
          "output_type": "display_data",
          "data": {
            "image/png": "[encoded data removed]",
            "text/plain": [
              "<Figure size 432x288 with 1 Axes>"
            ]
          },
          "metadata": {
            "tags": [],
            "needs_background": "light"
          }
        }
      ]
    },
    {
      "cell_type": "markdown",
      "metadata": {
        "id": "ZNyRkxb18lGc"
      },
      "source": [
        "It is clear that the number of words in news headlines ranges from 2 to 12 and mostly falls between 5 to 7 words."
      ]
    },
    {
      "cell_type": "code",
      "metadata": {
        "id": "Eub_zSvG5Q11",
        "colab": {
          "base_uri": "https://localhost:8080/",
          "height": 282
        },
        "outputId": "ffe9750e-b7c0-4487-e824-9ffec34f1d2e"
      },
      "source": [
        "data['article'].str.split().\\\n",
        "   apply(lambda x : [len(i) for i in x]). \\\n",
        "   map(lambda x: np.mean(x)).hist()"
      ],
      "execution_count": 22,
      "outputs": [
        {
          "output_type": "execute_result",
          "data": {
            "text/plain": [
              "<matplotlib.axes._subplots.AxesSubplot at 0x7f56520174e0>"
            ]
          },
          "metadata": {
            "tags": []
          },
          "execution_count": 22
        },
        {
          "output_type": "display_data",
          "data": {
            "image/png": "[encoded data removed]",
            "text/plain": [
              "<Figure size 432x288 with 1 Axes>"
            ]
          },
          "metadata": {
            "tags": [],
            "needs_background": "light"
          }
        }
      ]
    },
    {
      "cell_type": "code",
      "metadata": {
        "id": "atzcDs5M-Os4",
        "colab": {
          "base_uri": "https://localhost:8080/"
        },
        "outputId": "cf22e7a7-b446-4ba9-94dd-63c3af544253"
      },
      "source": [
        "data.article.map(lambda x: len(x)).max()\n",
        "data['article'].str.len().max()"
      ],
      "execution_count": 23,
      "outputs": [
        {
          "output_type": "execute_result",
          "data": {
            "text/plain": [
              "10177"
            ]
          },
          "metadata": {
            "tags": []
          },
          "execution_count": 23
        }
      ]
    },
    {
      "cell_type": "code",
      "metadata": {
        "id": "aiwsHwcW5RN7"
      },
      "source": [
        "def get_top_ngram(corpus, n=None):\n",
        "    vec = CountVectorizer(ngram_range=(n, n)).fit(corpus)\n",
        "    bag_of_words = vec.transform(corpus)\n",
        "    sum_words = bag_of_words.sum(axis=0) \n",
        "    words_freq = [(word, sum_words[0, idx]) \n",
        "                  for word, idx in vec.vocabulary_.items()]\n",
        "    words_freq =sorted(words_freq, key = lambda x: x[1], reverse=True)\n",
        "    return words_freq[:10]\n"
      ],
      "execution_count": 24,
      "outputs": []
    },
    {
      "cell_type": "code",
      "metadata": {
        "id": "ifuyXQEUmbpi",
        "colab": {
          "base_uri": "https://localhost:8080/",
          "height": 282
        },
        "outputId": "91293f05-584a-488a-d925-37bfcfe5a23a"
      },
      "source": [
        "top_n_bigrams=get_top_ngram(data['article'],2)[:10]\n",
        "x,y=map(list,zip(*top_n_bigrams))\n",
        "sns.barplot(x=y,y=x)"
      ],
      "execution_count": 25,
      "outputs": [
        {
          "output_type": "execute_result",
          "data": {
            "text/plain": [
              "<matplotlib.axes._subplots.AxesSubplot at 0x7f56502989b0>"
            ]
          },
          "metadata": {
            "tags": []
          },
          "execution_count": 25
        },
        {
          "output_type": "display_data",
          "data": {
            "image/png": "[encoded data removed]",
            "text/plain": [
              "<Figure size 432x288 with 1 Axes>"
            ]
          },
          "metadata": {
            "tags": [],
            "needs_background": "light"
          }
        }
      ]
    },
    {
      "cell_type": "code",
      "metadata": {
        "id": "3KgzlJJW5RUW",
        "colab": {
          "base_uri": "https://localhost:8080/",
          "height": 282
        },
        "outputId": "158f6368-6016-4770-b503-01c42d7623ea"
      },
      "source": [
        "top_n_trigrams=get_top_ngram(data['article'],3)[:10]\n",
        "x,y=map(list,zip(*top_n_trigrams))\n",
        "sns.barplot(x=y,y=x)"
      ],
      "execution_count": 26,
      "outputs": [
        {
          "output_type": "execute_result",
          "data": {
            "text/plain": [
              "<matplotlib.axes._subplots.AxesSubplot at 0x7f565008b4a8>"
            ]
          },
          "metadata": {
            "tags": []
          },
          "execution_count": 26
        },
        {
          "output_type": "display_data",
          "data": {
            "image/png": "[encoded data removed]",
            "text/plain": [
              "<Figure size 432x288 with 1 Axes>"
            ]
          },
          "metadata": {
            "tags": [],
            "needs_background": "light"
          }
        }
      ]
    },
    {
      "cell_type": "code",
      "metadata": {
        "id": "koxO0-O05RmO",
        "colab": {
          "base_uri": "https://localhost:8080/",
          "height": 282
        },
        "outputId": "f9c8b891-d3f0-4c91-87c2-4f5ef1fc5c8c"
      },
      "source": [
        "top_n_quadgrams=get_top_ngram(data['article'],4)[:10]\n",
        "x,y=map(list,zip(*top_n_quadgrams))\n",
        "sns.barplot(x=y,y=x)"
      ],
      "execution_count": 27,
      "outputs": [
        {
          "output_type": "execute_result",
          "data": {
            "text/plain": [
              "<matplotlib.axes._subplots.AxesSubplot at 0x7f5652dfbc18>"
            ]
          },
          "metadata": {
            "tags": []
          },
          "execution_count": 27
        },
        {
          "output_type": "display_data",
          "data": {
            "image/png": "[encoded data removed]",
            "text/plain": [
              "<Figure size 432x288 with 1 Axes>"
            ]
          },
          "metadata": {
            "tags": [],
            "needs_background": "light"
          }
        }
      ]
    },
    {
      "cell_type": "code",
      "metadata": {
        "id": "Ahw1oycpB8mL",
        "colab": {
          "base_uri": "https://localhost:8080/",
          "height": 282
        },
        "outputId": "56396229-ece3-4ffd-8b65-92cc3a2636c1"
      },
      "source": [
        "top_n_pentagrams=get_top_ngram(data['article'],5)[:10]\n",
        "x,y=map(list,zip(*top_n_pentagrams))\n",
        "sns.barplot(x=y,y=x)"
      ],
      "execution_count": 28,
      "outputs": [
        {
          "output_type": "execute_result",
          "data": {
            "text/plain": [
              "<matplotlib.axes._subplots.AxesSubplot at 0x7f565203fe80>"
            ]
          },
          "metadata": {
            "tags": []
          },
          "execution_count": 28
        },
        {
          "output_type": "display_data",
          "data": {
            "image/png": "[encoded data removed]",
            "text/plain": [
              "<Figure size 432x288 with 1 Axes>"
            ]
          },
          "metadata": {
            "tags": [],
            "needs_background": "light"
          }
        }
      ]
    },
    {
      "cell_type": "markdown",
      "metadata": {
        "id": "YYgcz7zP87jL"
      },
      "source": [
        "    The average word length ranges between 3 to 9 with 5 being the most common length. Does it mean that people are using really short words in news headlines?"
      ]
    },
    {
      "cell_type": "code",
      "metadata": {
        "id": "-ePSmQUFFy_2"
      },
      "source": [
        "remove_words = ['Mr.', 'Mr', 'Mrs.', 'Mrs', 'said', 'bbc', 'said:', 'said.', 'said,', 'said:\"', 'said.\"', 'said,\"', 'we re', 'we ve', 'told', \\\n",
        "                'Media playback is not supported on this device', 'Media playback is not supported on this device.', \\\n",
        "                'Media playback supported device', 'Media playback supported device.', '\\'Media playback supported device', \\\n",
        "                'media playback unsupported device', 'Media playback is unsupported on your device', \\\n",
        "                'Follow us on Facebook , on Twitter @BBCNewsEnts , or on Instagram at newsents . If you have a story suggestion email entertainment.news@.co.uk .', \\\n",
        "                'Follow us on Twitter @BBCNewsEnts , on Instagram , or if you have a story suggestion email entertainment.news@.co.uk .', \\\n",
        "                'Follow us on @BBCNewsEnts , on Instagram at newsents , or if you have a story suggestion email entertainment.news@.co.uk', \\\n",
        "                'Follow us on @BBCNewsEnts , on Instagram , or if you have a story suggestion email entertainment.news@.co.uk', \\\n",
        "                'Last updated at', 'Subscribe to the BBC Sport newsletter to get our pick of news , features and video sent to your inbox .']\n",
        "for i in remove_words:\n",
        "    data['article'] = data['article'].str.replace(i, '')"
      ],
      "execution_count": 29,
      "outputs": []
    },
    {
      "cell_type": "code",
      "metadata": {
        "id": "Ta9gFEW0pOTa"
      },
      "source": [
        "data['article'] = data['article'].str.replace('media playback supported device', '')"
      ],
      "execution_count": 30,
      "outputs": []
    },
    {
      "cell_type": "code",
      "metadata": {
        "id": "33KwOu4yfHJU",
        "colab": {
          "base_uri": "https://localhost:8080/"
        },
        "outputId": "09b97a89-0aaa-4bf8-f8fe-76fcdfe6f2eb"
      },
      "source": [
        "df = data[data['article'].str.contains(\"newsletter\")]\n",
        "df['article']"
      ],
      "execution_count": 31,
      "outputs": [
        {
          "output_type": "execute_result",
          "data": {
            "text/plain": [
              "452     Trump has  he would ban Muslims from entering ...\n",
              "701     Gray, 25, originally had until Wednesday, 31 A...\n",
              "847      Sweden won 1-0 against South Africa in the op...\n",
              "862     The Bloomsbury Patient Network provides inform...\n",
              "870     The sevens squad have been recipients of full-...\n",
              "1022    The Swans have enquired about Leicester forwar...\n",
              "1066    Miliband will use a foreign policy speech to c...\n",
              "1175     It was the first time Mourinho had dropped Ro...\n",
              "1251     Bravo was making his debut after being brough...\n",
              "1252    Argentine Hoyos, a former boss of Barcelona B,...\n",
              "1450     In an error-strewn display, the 2012 bronze m...\n",
              "1641    The 36-year-old midfielder, who is leaving MLS...\n",
              "1684    The American top seeds lost 6-3 6-4 to Czech R...\n",
              "1716    German centre-back Mertesacker, 31, is to miss...\n",
              "2023     The 20-year-old had a two-stroke lead over So...\n",
              "2176    European football's governing body confirmed i...\n",
              "2217    The Under-20 boss replaces Gareth Southgate, w...\n",
              "2344    Hampshire's Gregory will tee off on Thursday h...\n",
              "2467     Brazil won the men's tournament for the first...\n",
              "2821    Despite losing the cup final to Canada in the ...\n",
              "3093     But on Sunday, 11-time Swedish champions AIK ...\n",
              "Name: article, dtype: object"
            ]
          },
          "metadata": {
            "tags": []
          },
          "execution_count": 31
        }
      ]
    },
    {
      "cell_type": "code",
      "metadata": {
        "id": "a3tJmAKOffMD",
        "colab": {
          "base_uri": "https://localhost:8080/",
          "height": 137
        },
        "outputId": "07e032b8-57f7-44dc-9cbe-5b7cf0158c9e"
      },
      "source": [
        "data['article'][452]"
      ],
      "execution_count": 32,
      "outputs": [
        {
          "output_type": "execute_result",
          "data": {
            "application/vnd.google.colaboratory.intrinsic+json": {
              "type": "string"
            },
            "text/plain": [
              "'Trump has  he would ban Muslims from entering the US and that a wall would be built on the Mexican border. The US hopes to stage the 2024 Olympics in Los Angeles, and the 2026 World Cup either alone or with Mexico. \"I didn\\'t like any part of the Trump campaign,\"  Bradley. \"Everything the President does in terms of domestic policy and international relations determines how you are received in all different areas, including sports. \"If you want to be optimistic you just have to hope that the responsibilities of the job make a big difference in the way Trump handles himself. Because if you just go by the campaign, for me it was divisive and ugly.\" The Swansea City manager, who has also managed the Egypt national team as well as Stabaek in Norway and Le Havre in France, has not worked in his home country since his five-year spell as USA boss ended in 2011. Trump\\'s comments during his campaign had raised concerns the United States may miss out on staging the Olympics and World Cup. Bradley : \"I can\\'t put up with the type of values that don\\'t include an understanding of people that come from different backgrounds. And I can\\'t put up with values that don\\'t take into account that people sometimes don\\'t have everything that you have. \"I think our country was built upon caring about people who came from different places.\" Swansea City are bottom of the Premier League and have not won since Bradley replaced Francesco Guidolin on 3 October. Subscribe to the BBC Sport newsletter to get our pick of news, features and video sent to your inbox.'"
            ]
          },
          "metadata": {
            "tags": []
          },
          "execution_count": 32
        }
      ]
    },
    {
      "cell_type": "code",
      "metadata": {
        "id": "jQcIjTJm5Q8G",
        "colab": {
          "base_uri": "https://localhost:8080/"
        },
        "outputId": "125af852-7ee2-4521-c0db-2af0c6fec4f1"
      },
      "source": [
        "nltk.download('stopwords')\n",
        "stop=set(stopwords.words('english'))"
      ],
      "execution_count": 33,
      "outputs": [
        {
          "output_type": "stream",
          "text": [
            "[nltk_data] Downloading package stopwords to /root/nltk_data...\n",
            "[nltk_data]   Unzipping corpora/stopwords.zip.\n"
          ],
          "name": "stdout"
        }
      ]
    },
    {
      "cell_type": "code",
      "metadata": {
        "id": "NB9h2fY35RB_",
        "colab": {
          "base_uri": "https://localhost:8080/",
          "height": 282
        },
        "outputId": "9f64c2e5-901e-40ce-91bd-f33ad4f74ed2"
      },
      "source": [
        "corpus=[]\n",
        "new= data['article'].str.split()\n",
        "new=new.values.tolist()\n",
        "corpus=[word for i in new for word in i]\n",
        "from collections import defaultdict\n",
        "dic=defaultdict(int)\n",
        "for word in corpus:\n",
        "    if word in stop:\n",
        "        dic[word]+=1\n",
        "top=sorted(dic.items(), key=lambda x:x[1],reverse=True)[:10] \n",
        "x,y=zip(*top)\n",
        "plt.bar(x,y)"
      ],
      "execution_count": 34,
      "outputs": [
        {
          "output_type": "execute_result",
          "data": {
            "text/plain": [
              "<BarContainer object of 10 artists>"
            ]
          },
          "metadata": {
            "tags": []
          },
          "execution_count": 34
        },
        {
          "output_type": "display_data",
          "data": {
            "image/png": "[encoded data removed]",
            "text/plain": [
              "<Figure size 432x288 with 1 Axes>"
            ]
          },
          "metadata": {
            "tags": [],
            "needs_background": "light"
          }
        }
      ]
    },
    {
      "cell_type": "code",
      "metadata": {
        "id": "SCjsDhMN5RIJ",
        "colab": {
          "base_uri": "https://localhost:8080/",
          "height": 282
        },
        "outputId": "11956656-dedb-4d58-94ca-1fecd72582f8"
      },
      "source": [
        "counter=Counter(corpus)\n",
        "most=counter.most_common()\n",
        "x, y= [], []\n",
        "for word,count in most[:40]:\n",
        "    if (word not in stop):\n",
        "        x.append(word)\n",
        "        y.append(count)\n",
        "        \n",
        "sns.barplot(x=y,y=x)"
      ],
      "execution_count": 35,
      "outputs": [
        {
          "output_type": "execute_result",
          "data": {
            "text/plain": [
              "<matplotlib.axes._subplots.AxesSubplot at 0x7f564e328f28>"
            ]
          },
          "metadata": {
            "tags": []
          },
          "execution_count": 35
        },
        {
          "output_type": "display_data",
          "data": {
            "image/png": "[encoded data removed]",
            "text/plain": [
              "<Figure size 432x288 with 1 Axes>"
            ]
          },
          "metadata": {
            "tags": [],
            "needs_background": "light"
          }
        }
      ]
    },
    {
      "cell_type": "code",
      "metadata": {
        "id": "CvAsqLZhPZRn"
      },
      "source": [
        "# Add some more stopwords and remove them too\n",
        "from nltk.corpus import stopwords\n",
        "stop = stopwords.words('english')\n",
        "# newStopWords = ['said', 'bbc', 'BBC.', 'BBC:', 'BBC,', 'said:', 'said.', 'said,', 'said:\"', 'said.\"', 'said,\"', 'we re', 'we ve', 'told', \\\n",
        "#                 'Media playback is not supported on this device', 'Media playback is not supported on this device.', \\\n",
        "#                 'Media playback supported device', 'Media playback supported device.', '\\'Media playback supported device']\n",
        "# stop.extend(newStopWords)\n",
        "\n",
        "# stop.append('said')\n",
        "# stop.append('bbc')\n",
        "# print(stop)\n"
      ],
      "execution_count": 36,
      "outputs": []
    },
    {
      "cell_type": "code",
      "metadata": {
        "id": "fKnfgz-cmzH5",
        "colab": {
          "base_uri": "https://localhost:8080/",
          "height": 282
        },
        "outputId": "cbc684e8-5966-4620-f7c2-c1997649b02f"
      },
      "source": [
        "top_n_bigrams=get_top_ngram(data['article'],2)[:10]\n",
        "x,y=map(list,zip(*top_n_bigrams))\n",
        "sns.barplot(x=y,y=x)"
      ],
      "execution_count": 37,
      "outputs": [
        {
          "output_type": "execute_result",
          "data": {
            "text/plain": [
              "<matplotlib.axes._subplots.AxesSubplot at 0x7f564feeabe0>"
            ]
          },
          "metadata": {
            "tags": []
          },
          "execution_count": 37
        },
        {
          "output_type": "display_data",
          "data": {
            "image/png": "[encoded data removed]",
            "text/plain": [
              "<Figure size 432x288 with 1 Axes>"
            ]
          },
          "metadata": {
            "tags": [],
            "needs_background": "light"
          }
        }
      ]
    },
    {
      "cell_type": "code",
      "metadata": {
        "id": "XP1zeixvmzH7",
        "colab": {
          "base_uri": "https://localhost:8080/",
          "height": 282
        },
        "outputId": "ff613b87-a0bc-4b7d-92fb-d1a360369d1d"
      },
      "source": [
        "top_n_trigrams=get_top_ngram(data['article'],3)[:10]\n",
        "x,y=map(list,zip(*top_n_trigrams))\n",
        "sns.barplot(x=y,y=x)"
      ],
      "execution_count": 38,
      "outputs": [
        {
          "output_type": "execute_result",
          "data": {
            "text/plain": [
              "<matplotlib.axes._subplots.AxesSubplot at 0x7f564c1cf1d0>"
            ]
          },
          "metadata": {
            "tags": []
          },
          "execution_count": 38
        },
        {
          "output_type": "display_data",
          "data": {
            "image/png": "[encoded data removed]",
            "text/plain": [
              "<Figure size 432x288 with 1 Axes>"
            ]
          },
          "metadata": {
            "tags": [],
            "needs_background": "light"
          }
        }
      ]
    },
    {
      "cell_type": "code",
      "metadata": {
        "id": "seGj8u76mzH-",
        "colab": {
          "base_uri": "https://localhost:8080/",
          "height": 282
        },
        "outputId": "b12571b7-e927-4869-c438-3212115a920a"
      },
      "source": [
        "top_n_quadgrams=get_top_ngram(data['article'],4)[:10]\n",
        "x,y=map(list,zip(*top_n_quadgrams))\n",
        "sns.barplot(x=y,y=x)"
      ],
      "execution_count": 39,
      "outputs": [
        {
          "output_type": "execute_result",
          "data": {
            "text/plain": [
              "<matplotlib.axes._subplots.AxesSubplot at 0x7f56488cac18>"
            ]
          },
          "metadata": {
            "tags": []
          },
          "execution_count": 39
        },
        {
          "output_type": "display_data",
          "data": {
            "image/png": "[encoded data removed]",
            "text/plain": [
              "<Figure size 432x288 with 1 Axes>"
            ]
          },
          "metadata": {
            "tags": [],
            "needs_background": "light"
          }
        }
      ]
    },
    {
      "cell_type": "code",
      "metadata": {
        "id": "0_gyrVLpmzIB",
        "colab": {
          "base_uri": "https://localhost:8080/",
          "height": 282
        },
        "outputId": "8879e917-84ce-4b9e-c8c5-db5d0e3d51c0"
      },
      "source": [
        "top_n_pentagrams=get_top_ngram(data['article'],5)[:10]\n",
        "x,y=map(list,zip(*top_n_pentagrams))\n",
        "sns.barplot(x=y,y=x)"
      ],
      "execution_count": 40,
      "outputs": [
        {
          "output_type": "execute_result",
          "data": {
            "text/plain": [
              "<matplotlib.axes._subplots.AxesSubplot at 0x7f564a38c748>"
            ]
          },
          "metadata": {
            "tags": []
          },
          "execution_count": 40
        },
        {
          "output_type": "display_data",
          "data": {
            "image/png": "[encoded data removed]",
            "text/plain": [
              "<Figure size 432x288 with 1 Axes>"
            ]
          },
          "metadata": {
            "tags": [],
            "needs_background": "light"
          }
        }
      ]
    },
    {
      "cell_type": "code",
      "metadata": {
        "id": "0VMQ9r1ip0JO"
      },
      "source": [
        "data.to_csv('drive/My Drive/dev_task_2.csv', index = False)"
      ],
      "execution_count": 41,
      "outputs": []
    },
    {
      "cell_type": "code",
      "metadata": {
        "colab": {
          "base_uri": "https://localhost:8080/",
          "height": 265
        },
        "id": "rmpi0fzkbtVj",
        "outputId": "334b991d-8e86-42d8-fe9a-bc5ec9d2eed7"
      },
      "source": [
        "import math\r\n",
        "dev = {0: 40.669856459330145,\r\n",
        " 1: 40.90909090909091,\r\n",
        " 2: 39.712918660287083,\r\n",
        " 3: 39.712918660287083,\r\n",
        " 4: 40.669856459330145,\r\n",
        " 5: 41.38755980861244,\r\n",
        " 6: 41.148325358851673,\r\n",
        " 7: 41.626794258373206,\r\n",
        " 8: 42.105263157894735,\r\n",
        " 9: 40.669856459330145,\r\n",
        " 10: 40.90909090909091,\r\n",
        " 11: 41.626794258373206,\r\n",
        " 12: 40.43062200956938,\r\n",
        " 13: 41.38755980861244,\r\n",
        " 14: 40.90909090909091,\r\n",
        " 15: 40.43062200956938}\r\n",
        "\r\n",
        "# for k in dev:\r\n",
        "#   dev[k] = 100*dev[k]\r\n",
        "\r\n",
        "import matplotlib.pyplot as plt\r\n",
        "import numpy as np\r\n",
        "\r\n",
        "y = list(dev.values())[:16]\r\n",
        "xpoints = np.array(list(dev.keys())[:16])\r\n",
        "ypoints = np.array(list(dev.values())[:16])\r\n",
        "# yint = range(39,43, 1)\r\n",
        "\r\n",
        "# plt.yticks(yint)\r\n",
        "plt.plot(xpoints, ypoints)\r\n",
        "plt.show()"
      ],
      "execution_count": 42,
      "outputs": [
        {
          "output_type": "display_data",
          "data": {
            "image/png": "[encoded data removed]",
            "text/plain": [
              "<Figure size 432x288 with 1 Axes>"
            ]
          },
          "metadata": {
            "tags": [],
            "needs_background": "light"
          }
        }
      ]
    },
    {
      "cell_type": "markdown",
      "metadata": {
        "id": "0r7OBYLQpmmr"
      },
      "source": [
        ""
      ]
    }
  ]
}