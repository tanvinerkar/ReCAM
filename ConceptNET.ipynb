{
  "nbformat": 4,
  "nbformat_minor": 0,
  "metadata": {
    "colab": {
      "name": "ConceptNET.ipynb",
      "provenance": [],
      "collapsed_sections": []
    },
    "kernelspec": {
      "name": "python3",
      "display_name": "Python 3"
    },
    "accelerator": "GPU"
  },
  "cells": [
    {
      "cell_type": "code",
      "metadata": {
        "id": "Rp8pf6-JMtRx"
      },
      "source": [
        "import warnings\r\n",
        "warnings.simplefilter(\"ignore\", UserWarning)\r\n",
        "import requests\r\n",
        "import spacy\r\n",
        "nlp = spacy.load('en_core_web_sm') \r\n",
        "import nltk\r\n",
        "from nltk.corpus import stopwords\r\n",
        "from nltk import word_tokenize, pos_tag, ne_chunk\r\n",
        "from nltk import RegexpParser\r\n",
        "from nltk import Tree\r\n",
        "nltk.download('stopwords')\r\n",
        "stop_words_l=stopwords.words('english')\r\n",
        "import pandas as pd\r\n",
        "import numpy as np\r\n",
        "import re\r\n",
        "from sklearn.metrics.pairwise import cosine_similarity\r\n",
        "from __future__ import unicode_literals\r\n",
        "import en_core_web_sm\r\n",
        "from spacy.matcher import Matcher\r\n",
        "from spacy.util import filter_spans\r\n",
        "from nltk.tokenize import word_tokenize"
      ],
      "execution_count": null,
      "outputs": []
    },
    {
      "cell_type": "markdown",
      "metadata": {
        "id": "OVTX-D4geI5B"
      },
      "source": [
        "Creating run_mlm.py file to train data\n",
        "\n",
        "Credits: https://github.com/huggingface/transformers/blob/master/examples/language-modeling/run_mlm.py"
      ]
    },
    {
      "cell_type": "code",
      "metadata": {
        "id": "zHVjzNvYE6bM"
      },
      "source": [
        "s='''# coding=utf-8\n",
        "# Copyright 2020 The HuggingFace Team All rights reserved.\n",
        "#\n",
        "# Licensed under the Apache License, Version 2.0 (the \"License\");\n",
        "# you may not use this file except in compliance with the License.\n",
        "# You may obtain a copy of the License at\n",
        "#\n",
        "#     http://www.apache.org/licenses/LICENSE-2.0\n",
        "#\n",
        "# Unless required by applicable law or agreed to in writing, software\n",
        "# distributed under the License is distributed on an \"AS IS\" BASIS,\n",
        "# WITHOUT WARRANTIES OR CONDITIONS OF ANY KIND, either express or implied.\n",
        "# See the License for the specific language governing permissions and\n",
        "# limitations under the License.\n",
        "\"\"\"\n",
        "Fine-tuning the library models for masked language modeling (BERT, ALBERT, RoBERTa...) on a text file or a dataset.\n",
        "Here is the full list of checkpoints on the hub that can be fine-tuned by this script:\n",
        "https://huggingface.co/models?filter=masked-lm\n",
        "\"\"\"\n",
        "# You can also adapt this script on your own masked language modeling task. Pointers for this are left as comments.\n",
        "\n",
        "import logging\n",
        "import math\n",
        "import os\n",
        "import sys\n",
        "from dataclasses import dataclass, field\n",
        "from typing import Optional\n",
        "from sklearn.metrics import accuracy_score\n",
        "\n",
        "from datasets import load_dataset\n",
        "\n",
        "import transformers\n",
        "from transformers import (\n",
        "    CONFIG_MAPPING,\n",
        "    MODEL_FOR_MASKED_LM_MAPPING,\n",
        "    AutoConfig,\n",
        "    AutoModelForMaskedLM,\n",
        "    AutoTokenizer,\n",
        "    DataCollatorForLanguageModeling,\n",
        "    HfArgumentParser,\n",
        "    Trainer,\n",
        "    TrainingArguments,\n",
        "    set_seed,\n",
        ")\n",
        "from transformers.trainer_utils import is_main_process\n",
        "\n",
        "\n",
        "logger = logging.getLogger(__name__)\n",
        "MODEL_CONFIG_CLASSES = list(MODEL_FOR_MASKED_LM_MAPPING.keys())\n",
        "MODEL_TYPES = tuple(conf.model_type for conf in MODEL_CONFIG_CLASSES)\n",
        "\n",
        "def compute_metrics(pred):\n",
        "    labels = pred.label_ids\n",
        "    preds = pred.predictions.argmax(-1)\n",
        "    acc = accuracy_score(labels, preds)\n",
        "    return {\n",
        "        'accuracy': acc\n",
        "    }\n",
        "\n",
        "\n",
        "@dataclass\n",
        "class ModelArguments:\n",
        "    \"\"\"\n",
        "    Arguments pertaining to which model/config/tokenizer we are going to fine-tune, or train from scratch.\n",
        "    \"\"\"\n",
        "\n",
        "    model_name_or_path: Optional[str] = field(\n",
        "        default=None,\n",
        "        metadata={\n",
        "            \"help\": \"The model checkpoint for weights initialization.\"\n",
        "            \"Don't set if you want to train a model from scratch.\"\n",
        "        },\n",
        "    )\n",
        "    model_type: Optional[str] = field(\n",
        "        default=None,\n",
        "        metadata={\"help\": \"If training from scratch, pass a model type from the list: \" + \", \".join(MODEL_TYPES)},\n",
        "    )\n",
        "    config_name: Optional[str] = field(\n",
        "        default=None, metadata={\"help\": \"Pretrained config name or path if not the same as model_name\"}\n",
        "    )\n",
        "    tokenizer_name: Optional[str] = field(\n",
        "        default=None, metadata={\"help\": \"Pretrained tokenizer name or path if not the same as model_name\"}\n",
        "    )\n",
        "    cache_dir: Optional[str] = field(\n",
        "        default=None,\n",
        "        metadata={\"help\": \"Where do you want to store the pretrained models downloaded from huggingface.co\"},\n",
        "    )\n",
        "    use_fast_tokenizer: bool = field(\n",
        "        default=True,\n",
        "        metadata={\"help\": \"Whether to use one of the fast tokenizer (backed by the tokenizers library) or not.\"},\n",
        "    )\n",
        "\n",
        "\n",
        "@dataclass\n",
        "class DataTrainingArguments:\n",
        "    \"\"\"\n",
        "    Arguments pertaining to what data we are going to input our model for training and eval.\n",
        "    \"\"\"\n",
        "\n",
        "    dataset_name: Optional[str] = field(\n",
        "        default=None, metadata={\"help\": \"The name of the dataset to use (via the datasets library).\"}\n",
        "    )\n",
        "    dataset_config_name: Optional[str] = field(\n",
        "        default=None, metadata={\"help\": \"The configuration name of the dataset to use (via the datasets library).\"}\n",
        "    )\n",
        "    train_file: Optional[str] = field(default=None, metadata={\"help\": \"The input training data file (a text file).\"})\n",
        "    validation_file: Optional[str] = field(\n",
        "        default=None,\n",
        "        metadata={\"help\": \"An optional input evaluation data file to evaluate the perplexity on (a text file).\"},\n",
        "    )\n",
        "    overwrite_cache: bool = field(\n",
        "        default=False, metadata={\"help\": \"Overwrite the cached training and evaluation sets\"}\n",
        "    )\n",
        "    max_seq_length: Optional[int] = field(\n",
        "        default=None,\n",
        "        metadata={\n",
        "            \"help\": \"The maximum total input sequence length after tokenization. Sequences longer \"\n",
        "            \"than this will be truncated.\"\n",
        "        },\n",
        "    )\n",
        "    preprocessing_num_workers: Optional[int] = field(\n",
        "        default=None,\n",
        "        metadata={\"help\": \"The number of processes to use for the preprocessing.\"},\n",
        "    )\n",
        "    mlm_probability: float = field(\n",
        "        default=0.15, metadata={\"help\": \"Ratio of tokens to mask for masked language modeling loss\"}\n",
        "    )\n",
        "    line_by_line: bool = field(\n",
        "        default=False,\n",
        "        metadata={\"help\": \"Whether distinct lines of text in the dataset are to be handled as distinct sequences.\"},\n",
        "    )\n",
        "    pad_to_max_length: bool = field(\n",
        "        default=False,\n",
        "        metadata={\n",
        "            \"help\": \"Whether to pad all samples to `max_seq_length`. \"\n",
        "            \"If False, will pad the samples dynamically when batching to the maximum length in the batch.\"\n",
        "        },\n",
        "    )\n",
        "\n",
        "    def __post_init__(self):\n",
        "        if self.dataset_name is None and self.train_file is None and self.validation_file is None:\n",
        "            raise ValueError(\"Need either a dataset name or a training/validation file.\")\n",
        "        else:\n",
        "            if self.train_file is not None:\n",
        "                extension = self.train_file.split(\".\")[-1]\n",
        "                assert extension in [\"csv\", \"json\", \"txt\"], \"`train_file` should be a csv, a json or a txt file.\"\n",
        "            if self.validation_file is not None:\n",
        "                extension = self.validation_file.split(\".\")[-1]\n",
        "                assert extension in [\"csv\", \"json\", \"txt\"], \"`validation_file` should be a csv, a json or a txt file.\"\n",
        "\n",
        "\n",
        "def main():\n",
        "    # See all possible arguments in src/transformers/training_args.py\n",
        "    # or by passing the --help flag to this script.\n",
        "    # We now keep distinct sets of args, for a cleaner separation of concerns.\n",
        "\n",
        "    parser = HfArgumentParser((ModelArguments, DataTrainingArguments, TrainingArguments))\n",
        "    if len(sys.argv) == 2 and sys.argv[1].endswith(\".json\"):\n",
        "        # If we pass only one argument to the script and it's the path to a json file,\n",
        "        # let's parse it to get our arguments.\n",
        "        model_args, data_args, training_args = parser.parse_json_file(json_file=os.path.abspath(sys.argv[1]))\n",
        "    else:\n",
        "        model_args, data_args, training_args = parser.parse_args_into_dataclasses()\n",
        "\n",
        "    if (\n",
        "        os.path.exists(training_args.output_dir)\n",
        "        and os.listdir(training_args.output_dir)\n",
        "        and training_args.do_train\n",
        "        and not training_args.overwrite_output_dir\n",
        "    ):\n",
        "        raise ValueError(\n",
        "            f\"Output directory ({training_args.output_dir}) already exists and is not empty.\"\n",
        "            \"Use --overwrite_output_dir to overcome.\"\n",
        "        )\n",
        "\n",
        "    # Setup logging\n",
        "    logging.basicConfig(\n",
        "        format=\"%(asctime)s - %(levelname)s - %(name)s -   %(message)s\",\n",
        "        datefmt=\"%m/%d/%Y %H:%M:%S\",\n",
        "        level=logging.INFO if is_main_process(training_args.local_rank) else logging.WARN,\n",
        "    )\n",
        "\n",
        "    # Log on each process the small summary:\n",
        "    logger.warning(\n",
        "        f\"Process rank: {training_args.local_rank}, device: {training_args.device}, n_gpu: {training_args.n_gpu}\"\n",
        "        + f\"distributed training: {bool(training_args.local_rank != -1)}, 16-bits training: {training_args.fp16}\"\n",
        "    )\n",
        "    # Set the verbosity to info of the Transformers logger (on main process only):\n",
        "    if is_main_process(training_args.local_rank):\n",
        "        transformers.utils.logging.set_verbosity_info()\n",
        "        transformers.utils.logging.enable_default_handler()\n",
        "        transformers.utils.logging.enable_explicit_format()\n",
        "    logger.info(\"Training/evaluation parameters %s\", training_args)\n",
        "\n",
        "    # Set seed before initializing model.\n",
        "    set_seed(training_args.seed)\n",
        "\n",
        "    # Get the datasets: you can either provide your own CSV/JSON/TXT training and evaluation files (see below)\n",
        "    # or just provide the name of one of the public datasets available on the hub at https://huggingface.co/datasets/\n",
        "    # (the dataset will be downloaded automatically from the datasets Hub\n",
        "    #\n",
        "    # For CSV/JSON files, this script will use the column called 'text' or the first column. You can easily tweak this\n",
        "    # behavior (see below)\n",
        "    #\n",
        "    # In distributed training, the load_dataset function guarantee that only one local process can concurrently\n",
        "    # download the dataset.\n",
        "    if data_args.dataset_name is not None:\n",
        "        # Downloading and loading a dataset from the hub.\n",
        "        datasets = load_dataset(data_args.dataset_name, data_args.dataset_config_name)\n",
        "    else:\n",
        "        data_files = {}\n",
        "        if data_args.train_file is not None:\n",
        "            data_files[\"train\"] = data_args.train_file\n",
        "        if data_args.validation_file is not None:\n",
        "            data_files[\"validation\"] = data_args.validation_file\n",
        "        extension = data_args.train_file.split(\".\")[-1]\n",
        "        if extension == \"txt\":\n",
        "            extension = \"text\"\n",
        "        datasets = load_dataset(extension, data_files=data_files)\n",
        "    # See more about loading any type of standard or custom dataset (from files, python dict, pandas DataFrame, etc) at\n",
        "    # https://huggingface.co/docs/datasets/loading_datasets.html.\n",
        "\n",
        "    # Load pretrained model and tokenizer\n",
        "    #\n",
        "    # Distributed training:\n",
        "    # The .from_pretrained methods guarantee that only one local process can concurrently\n",
        "    # download model & vocab.\n",
        "    if model_args.config_name:\n",
        "        config = AutoConfig.from_pretrained(model_args.config_name, cache_dir=model_args.cache_dir)\n",
        "    elif model_args.model_name_or_path:\n",
        "        config = AutoConfig.from_pretrained(model_args.model_name_or_path, cache_dir=model_args.cache_dir)\n",
        "    else:\n",
        "        config = CONFIG_MAPPING[model_args.model_type]()\n",
        "        logger.warning(\"You are instantiating a new config instance from scratch.\")\n",
        "\n",
        "    if model_args.tokenizer_name:\n",
        "        tokenizer = AutoTokenizer.from_pretrained(\n",
        "            model_args.tokenizer_name, cache_dir=model_args.cache_dir, use_fast=model_args.use_fast_tokenizer\n",
        "        )\n",
        "    elif model_args.model_name_or_path:\n",
        "        tokenizer = AutoTokenizer.from_pretrained(\n",
        "            model_args.model_name_or_path, cache_dir=model_args.cache_dir, use_fast=model_args.use_fast_tokenizer\n",
        "        )\n",
        "    else:\n",
        "        raise ValueError(\n",
        "            \"You are instantiating a new tokenizer from scratch. This is not supported by this script.\"\n",
        "            \"You can do it from another script, save it, and load it from here, using --tokenizer_name.\"\n",
        "        )\n",
        "\n",
        "    if model_args.model_name_or_path:\n",
        "        model = AutoModelForMaskedLM.from_pretrained(\n",
        "            model_args.model_name_or_path,\n",
        "            from_tf=bool(\".ckpt\" in model_args.model_name_or_path),\n",
        "            config=config,\n",
        "            cache_dir=model_args.cache_dir,\n",
        "        )\n",
        "    else:\n",
        "        logger.info(\"Training new model from scratch\")\n",
        "        model = AutoModelForMaskedLM.from_config(config)\n",
        "\n",
        "    model.resize_token_embeddings(len(tokenizer))\n",
        "\n",
        "    # Preprocessing the datasets.\n",
        "    # First we tokenize all the texts.\n",
        "    if training_args.do_train:\n",
        "        column_names = datasets[\"train\"].column_names\n",
        "    else:\n",
        "        column_names = datasets[\"validation\"].column_names\n",
        "    text_column_name = \"text\" if \"text\" in column_names else column_names[0]\n",
        "\n",
        "    if data_args.line_by_line:\n",
        "        # When using line_by_line, we just tokenize each nonempty line.\n",
        "        padding = \"max_length\" if data_args.pad_to_max_length else False\n",
        "\n",
        "        def tokenize_function(examples):\n",
        "            # Remove empty lines\n",
        "            examples[\"text\"] = [line for line in examples[\"text\"] if len(line) > 0 and not line.isspace()]\n",
        "            return tokenizer(\n",
        "                examples[\"text\"],\n",
        "                padding=padding,\n",
        "                truncation=True,\n",
        "                max_length=data_args.max_seq_length,\n",
        "                # We use this option because DataCollatorForLanguageModeling (see below) is more efficient when it\n",
        "                # receives the `special_tokens_mask`.\n",
        "                return_special_tokens_mask=True,\n",
        "            )\n",
        "\n",
        "        tokenized_datasets = datasets.map(\n",
        "            tokenize_function,\n",
        "            batched=True,\n",
        "            num_proc=data_args.preprocessing_num_workers,\n",
        "            remove_columns=[text_column_name],\n",
        "            load_from_cache_file=not data_args.overwrite_cache,\n",
        "        )\n",
        "    else:\n",
        "        # Otherwise, we tokenize every text, then concatenate them together before splitting them in smaller parts.\n",
        "        # We use `return_special_tokens_mask=True` because DataCollatorForLanguageModeling (see below) is more\n",
        "        # efficient when it receives the `special_tokens_mask`.\n",
        "        def tokenize_function(examples):\n",
        "            return tokenizer(examples[text_column_name], return_special_tokens_mask=True)\n",
        "\n",
        "        tokenized_datasets = datasets.map(\n",
        "            tokenize_function,\n",
        "            batched=True,\n",
        "            num_proc=data_args.preprocessing_num_workers,\n",
        "            remove_columns=column_names,\n",
        "            load_from_cache_file=not data_args.overwrite_cache,\n",
        "        )\n",
        "\n",
        "        if data_args.max_seq_length is None:\n",
        "            max_seq_length = tokenizer.model_max_length\n",
        "        else:\n",
        "            if data_args.max_seq_length > tokenizer.model_max_length:\n",
        "                logger.warn(\n",
        "                    f\"The max_seq_length passed ({data_args.max_seq_length}) is larger than the maximum length for the\"\n",
        "                    f\"model ({tokenizer.model_max_length}). Using max_seq_length={tokenizer.model_max_length}.\"\n",
        "                )\n",
        "            max_seq_length = min(data_args.max_seq_length, tokenizer.model_max_length)\n",
        "\n",
        "        # Main data processing function that will concatenate all texts from our dataset and generate chunks of\n",
        "        # max_seq_length.\n",
        "        def group_texts(examples):\n",
        "            # Concatenate all texts.\n",
        "            concatenated_examples = {k: sum(examples[k], []) for k in examples.keys()}\n",
        "            total_length = len(concatenated_examples[list(examples.keys())[0]])\n",
        "            # We drop the small remainder, we could add padding if the model supported it instead of this drop, you can\n",
        "            # customize this part to your needs.\n",
        "            total_length = (total_length // max_seq_length) * max_seq_length\n",
        "            # Split by chunks of max_len.\n",
        "            result = {\n",
        "                k: [t[i : i + max_seq_length] for i in range(0, total_length, max_seq_length)]\n",
        "                for k, t in concatenated_examples.items()\n",
        "            }\n",
        "            return result\n",
        "\n",
        "        # Note that with `batched=True`, this map processes 1,000 texts together, so group_texts throws away a\n",
        "        # remainder for each of those groups of 1,000 texts. You can adjust that batch_size here but a higher value\n",
        "        # might be slower to preprocess.\n",
        "        #\n",
        "        # To speed up this part, we use multiprocessing. See the documentation of the map method for more information:\n",
        "        # https://huggingface.co/docs/datasets/package_reference/main_classes.html#datasets.Dataset.map\n",
        "        tokenized_datasets = tokenized_datasets.map(\n",
        "            group_texts,\n",
        "            batched=True,\n",
        "            num_proc=data_args.preprocessing_num_workers,\n",
        "            load_from_cache_file=not data_args.overwrite_cache,\n",
        "        )\n",
        "\n",
        "    # Data collator\n",
        "    # This one will take care of randomly masking the tokens.\n",
        "    data_collator = DataCollatorForLanguageModeling(tokenizer=tokenizer, mlm_probability=data_args.mlm_probability)\n",
        "\n",
        "    # Initialize our Trainer\n",
        "    trainer = Trainer(\n",
        "        model=model,\n",
        "        args=training_args,\n",
        "        train_dataset=tokenized_datasets[\"train\"] if training_args.do_train else None,\n",
        "        eval_dataset=tokenized_datasets[\"validation\"] if training_args.do_eval else None,\n",
        "        tokenizer=tokenizer,\n",
        "        data_collator=data_collator,\n",
        "    )\n",
        "\n",
        "    # Training\n",
        "    if training_args.do_train:\n",
        "        model_path = (\n",
        "            model_args.model_name_or_path\n",
        "            if (model_args.model_name_or_path is not None and os.path.isdir(model_args.model_name_or_path))\n",
        "            else None\n",
        "        )\n",
        "        trainer.train(model_path=model_path)\n",
        "        trainer.save_model()  # Saves the tokenizer too for easy upload\n",
        "\n",
        "    # Evaluation\n",
        "    results = {}\n",
        "    if training_args.do_eval:\n",
        "        logger.info(\"*** Evaluate ***\")\n",
        "\n",
        "        eval_output = trainer.evaluate()\n",
        "\n",
        "        perplexity = math.exp(eval_output[\"eval_loss\"])\n",
        "        results[\"perplexity\"] = perplexity\n",
        "\n",
        "        output_eval_file = os.path.join(training_args.output_dir, \"eval_results_mlm.txt\")\n",
        "        if trainer.is_world_process_zero():\n",
        "            with open(output_eval_file, \"w\") as writer:\n",
        "                logger.info(\"***** Eval results *****\")\n",
        "                for key, value in results.items():\n",
        "                    logger.info(f\"  {key} = {value}\")\n",
        "                    writer.write(f\"{key} = {value}\")\n",
        "\n",
        "    return results\n",
        "\n",
        "\n",
        "def _mp_fn(index):\n",
        "    # For xla_spawn (TPUs)\n",
        "    main()\n",
        "\n",
        "\n",
        "if __name__ == \"__main__\":\n",
        "    main()'''\n"
      ],
      "execution_count": 2,
      "outputs": []
    },
    {
      "cell_type": "markdown",
      "metadata": {
        "id": "-ejaznozTew0"
      },
      "source": [
        "Creating training Python file."
      ]
    },
    {
      "cell_type": "code",
      "metadata": {
        "id": "-EBsMF1nFAlE"
      },
      "source": [
        "f=open('run_mlm.py','w')\n",
        "f.write(s)\n",
        "f.close()"
      ],
      "execution_count": 3,
      "outputs": []
    },
    {
      "cell_type": "markdown",
      "metadata": {
        "id": "-Jm4fH3XTjO_"
      },
      "source": [
        "Installing dependencies."
      ]
    },
    {
      "cell_type": "code",
      "metadata": {
        "id": "CeKbw856HaNz"
      },
      "source": [
        "!pip install datasets"
      ],
      "execution_count": null,
      "outputs": []
    },
    {
      "cell_type": "code",
      "metadata": {
        "id": "-_eawDrPFQM4"
      },
      "source": [
        "!pip install transformers\n",
        "!pip install fitbert"
      ],
      "execution_count": null,
      "outputs": []
    },
    {
      "cell_type": "code",
      "metadata": {
        "id": "Sr2f3pbOHw5i"
      },
      "source": [
        "!pip install dill==0.2.7.1"
      ],
      "execution_count": null,
      "outputs": []
    },
    {
      "cell_type": "code",
      "metadata": {
        "id": "eZNdG1FRctun"
      },
      "source": [
        "!pip install sentence-transformers"
      ],
      "execution_count": null,
      "outputs": []
    },
    {
      "cell_type": "code",
      "metadata": {
        "id": "v2N-Uw7O6ars"
      },
      "source": [
        "!pip install \\\r\n",
        "   pandas matplotlib numpy \\\r\n",
        "   nltk seaborn sklearn gensim pyldavis \\\r\n",
        "   wordcloud textblob spacy textstat"
      ],
      "execution_count": null,
      "outputs": []
    },
    {
      "cell_type": "code",
      "metadata": {
        "id": "-vaIagiWdHXz"
      },
      "source": [
        "import torch\n",
        "import pandas as pd\n",
        "import numpy as np\n",
        "from nltk.corpus import stopwords\n",
        "import nltk\n",
        "nltk.download('stopwords')\n",
        "import re\n",
        "import csv\n",
        "from sklearn.feature_extraction.text import TfidfVectorizer \n",
        "from sklearn.metrics.pairwise import cosine_similarity\n",
        "stop_words_l=stopwords.words('english')\n",
        "nlp = spacy.load('en_core_web_sm')\n",
        "from nltk.corpus import stopwords\n",
        "stop = stopwords.words('english')"
      ],
      "execution_count": null,
      "outputs": []
    },
    {
      "cell_type": "code",
      "metadata": {
        "id": "EQ7SD5HIIwSY"
      },
      "source": [
        "import dill\n",
        "dill.dill._reverse_typemap['ClassType'] = type"
      ],
      "execution_count": null,
      "outputs": []
    },
    {
      "cell_type": "code",
      "metadata": {
        "id": "vPc7-hcBI7oi"
      },
      "source": [
        "dill.__version__"
      ],
      "execution_count": null,
      "outputs": []
    },
    {
      "cell_type": "markdown",
      "metadata": {
        "id": "L3WwuVAcePuJ"
      },
      "source": [
        "Modifying some dependencies."
      ]
    },
    {
      "cell_type": "code",
      "metadata": {
        "id": "slKsa8TDJNgh"
      },
      "source": [
        "f=open('/usr/local/lib/python3.6/dist-packages/datasets/utils/py_utils.py')\n",
        "r=f.read()\n",
        "r=r.replace('_dill','dill')\n",
        "f.close()\n",
        "f=open('/usr/local/lib/python3.6/dist-packages/datasets/utils/py_utils.py','w')\n",
        "f.write(r)\n",
        "f.close()"
      ],
      "execution_count": null,
      "outputs": []
    },
    {
      "cell_type": "code",
      "metadata": {
        "id": "lMw66bbMc3Vz"
      },
      "source": [
        "from sentence_transformers import SentenceTransformer\n",
        "sbert_model = SentenceTransformer('bert-base-nli-mean-tokens')"
      ],
      "execution_count": null,
      "outputs": []
    },
    {
      "cell_type": "code",
      "metadata": {
        "id": "AlM3s3rB0xUi"
      },
      "source": [
        "!pip install sentence-transformers\r\n",
        "from sentence_transformers import SentenceTransformer\r\n",
        "sbert_model = SentenceTransformer('bert-base-nli-mean-tokens')"
      ],
      "execution_count": null,
      "outputs": []
    },
    {
      "cell_type": "code",
      "metadata": {
        "id": "eZJoTwiRDZZh"
      },
      "source": [
        "!wget https://conceptnet.s3.amazonaws.com/downloads/2019/numberbatch/numberbatch-en-19.08.txt.gz\r\n",
        "!python -m spacy init-model en /tmp/concept_net_embeddings --vectors-loc numberbatch-en-19.08.txt.gz"
      ],
      "execution_count": null,
      "outputs": []
    },
    {
      "cell_type": "code",
      "metadata": {
        "id": "mZw9VLZjv1Cf"
      },
      "source": [
        "# from transformers import BertTokenizer\r\n",
        "# tokenizer = BertTokenizer.from_pretrained(\"bert-base-uncased\")"
      ],
      "execution_count": null,
      "outputs": []
    },
    {
      "cell_type": "code",
      "metadata": {
        "id": "8Qyfb0fvzDBo"
      },
      "source": [
        "!cp -r drive/My\\ Drive/recam/clean_data/* ."
      ],
      "execution_count": null,
      "outputs": []
    },
    {
      "cell_type": "code",
      "metadata": {
        "id": "ZjZ3uRNrLLpD"
      },
      "source": [
        "concept_net = spacy.load(\"/tmp/concept_net_embeddings\")"
      ],
      "execution_count": null,
      "outputs": []
    },
    {
      "cell_type": "code",
      "metadata": {
        "id": "FGOx_MpMLAYA"
      },
      "source": [
        "sentence1 = concept_net(\"exploded\")\r\n",
        "sentence2 = concept_net(\"unconnected\")\r\n",
        "sentence1.similarity(sentence2)"
      ],
      "execution_count": null,
      "outputs": []
    },
    {
      "cell_type": "code",
      "metadata": {
        "id": "S0D4S5HPLA4K"
      },
      "source": [
        "url = \"http://api.conceptnet.io/c/en/@word?filter=/c/en\""
      ],
      "execution_count": null,
      "outputs": []
    },
    {
      "cell_type": "code",
      "metadata": {
        "id": "rf9Q0gp0LA7q"
      },
      "source": [
        "response = requests.get(url.replace(\"@word\", \"angry\"))\r\n",
        "obj = response.json()\r\n",
        "string = obj['edges'][2]['surfaceText']\r\n",
        "string = string.replace(\"[[\", \"\")\r\n",
        "string = string.replace(\"]]\", \"\")\r\n",
        "string"
      ],
      "execution_count": null,
      "outputs": []
    },
    {
      "cell_type": "code",
      "metadata": {
        "id": "yegxWPYgg2mR"
      },
      "source": [
        "def get_nth_key(dictionary, n=0):\r\n",
        "    if n < 0:\r\n",
        "        n += len(dictionary)\r\n",
        "    for i, key in enumerate(dictionary.keys()):\r\n",
        "        if i == n:\r\n",
        "            return key\r\n",
        "    raise IndexError(\"dictionary index out of range\") \r\n",
        "\r\n",
        "def extract_n_v_phrase(sim_sent):\r\n",
        "    for i, val in enumerate(sim_sent):\r\n",
        "        nvp = []\r\n",
        "        doc = nlp(val)\r\n",
        "        for token in doc.noun_chunks: \r\n",
        "            nvp.append(token.text)\r\n",
        "\r\n",
        "        pattern = [{'POS': 'VERB', 'OP': '?'},{'POS': 'ADV', 'OP': '*'},{'POS': 'AUX', 'OP': '*'},{'POS': 'VERB', 'OP': '+'}]\r\n",
        "        matcher = Matcher(nlp.vocab)\r\n",
        "        matcher.add(\"Verb phrase\", None, pattern)\r\n",
        "        matches = matcher(doc)\r\n",
        "        spans = [doc[start:end] for _, start, end in matches]\r\n",
        "        vps = filter_spans(spans)\r\n",
        "\r\n",
        "        for vp in vps:\r\n",
        "            nvp.append(vp.text)\r\n",
        "            \r\n",
        "        similarities = {}\r\n",
        "        if(len(nvp)==0):\r\n",
        "            return []\r\n",
        "        for idx, x in enumerate(nvp):\r\n",
        "            sen1 = concept_net(val)\r\n",
        "            sen2 = concept_net(x)\r\n",
        "            sim = sen1.similarity(sen2)\r\n",
        "            similarities[sim] = idx\r\n",
        "        sort_sim = sorted(similarities, reverse = True)\r\n",
        "        result = []\r\n",
        "        try:\r\n",
        "            result.append(nvp[similarities[sort_sim[0]]])\r\n",
        "            if(len(nvp)>1):\r\n",
        "                result.append(nvp[similarities[sort_sim[1]]])\r\n",
        "        except Exception:\r\n",
        "            pass\r\n",
        "    return result"
      ],
      "execution_count": null,
      "outputs": []
    },
    {
      "cell_type": "code",
      "metadata": {
        "id": "LvHGiUEl6TeA"
      },
      "source": [
        "def most_similar_relation(relations, sentence, num):\r\n",
        "    similarities = {}\r\n",
        "    sen = concept_net(sentence)\r\n",
        "    for i,rel in enumerate(relations):\r\n",
        "        rel = concept_net(rel)\r\n",
        "        sim = rel.similarity(sen)\r\n",
        "        similarities[sim] = i\r\n",
        "    sort_sim = sorted(similarities, reverse = True)\r\n",
        "    # print(relations[similarities[sort_sim[0]]])\r\n",
        "    result = []\r\n",
        "    for i in range(num):\r\n",
        "        result.append(relations[similarities[sort_sim[i]]])\r\n",
        "    # result = [lambda x: relations[similarities[sort_sim[x]]] for x in range(num)]\r\n",
        "    # print(result)\r\n",
        "    return result\r\n",
        "\r\n",
        "def word_bank(noun_phrases, sentence):\r\n",
        "    relations = []\r\n",
        "    for np in noun_phrases:\r\n",
        "        words = np.split()\r\n",
        "        for w in words:\r\n",
        "            try:\r\n",
        "                url = \"http://api.conceptnet.io/c/en/@word?filter=/c/en\"\r\n",
        "                response = requests.get(url.replace(\"@word\", w))\r\n",
        "            \r\n",
        "                obj = response.json()\r\n",
        "                for edge in obj['edges']:\r\n",
        "                    sen = None\r\n",
        "                    if \"start\" in edge and \"end\" in edge and 'language' in edge['start'] and 'language' in edge['end']:\r\n",
        "                        if edge['start']['language']==\"en\" and edge[\"end\"][\"language\"]==\"en\":\r\n",
        "                            sen = edge['surfaceText']\r\n",
        "                    if sen is not None:\r\n",
        "                        sen = ' '.join([word for word in sen.split() if word not in (stop_words_l)])\r\n",
        "                        sen = sen.replace(\"[[\", \"\")\r\n",
        "                        sen = sen.replace(\"]]\", \"\")\r\n",
        "                        relations.append(sen)\r\n",
        "            except Exception:\r\n",
        "                pass\r\n",
        "\r\n",
        "    return most_similar_relation(relations, sentence, 2)\r\n",
        "\r\n"
      ],
      "execution_count": null,
      "outputs": []
    },
    {
      "cell_type": "code",
      "metadata": {
        "id": "0flOYvucLA-j"
      },
      "source": [
        "# def most_similar(doc_id,similarity_matrix,matrix,df):\r\n",
        "#     if matrix=='Cosine Similarity':\r\n",
        "#         similar_ix=np.argsort(similarity_matrix[doc_id])[::-1]\r\n",
        "#     elif matrix=='Euclidean Distance':\r\n",
        "#         similar_ix=np.argsort(similarity_matrix[doc_id])\r\n",
        "#     return similar_ix[1:]\r\n",
        "# def create_with_context(path, fname, num):\r\n",
        "#   df = pd.read_csv(path)\r\n",
        "#   content = []\r\n",
        "#   for idx, row in df.iterrows():\r\n",
        "#     ques = row['question']\r\n",
        "#     passage = row['article']\r\n",
        "\r\n",
        "#     ques = ques.replace('@placeholder', row[\"option_\"+str(row[\"label\"])])\r\n",
        "\r\n",
        "#     docs = passage.split('. ')\r\n",
        "#     docs.insert(0, ques)\r\n",
        "\r\n",
        "#     temp_df = pd.DataFrame(docs,columns=['sentences'])\r\n",
        "#     temp_df['cleaned']=temp_df.sentences.apply(lambda x: \" \".join(re.sub(r'[^a-zA-Z]',' ',w).lower() for w in x.split() if re.sub(r'[^a-zA-Z]',' ',w).lower() not in stop_words_l))\r\n",
        "    \r\n",
        "#     document_embeddings = sbert_model.encode(temp_df['cleaned'])\r\n",
        "#     pairwise_similarities=cosine_similarity(document_embeddings)\r\n",
        "\r\n",
        "#     top_3 = most_similar(0,pairwise_similarities,'Cosine Similarity', temp_df)[:num]\r\n",
        "\r\n",
        "#     len_ques = len(tokenizer.tokenize(row['question']))\r\n",
        "#     sim_sent = [docs[x] for x in top_3[:2]]\r\n",
        "#     len_pass = len(tokenizer.tokenize(' '.join(sim_sent)))\r\n",
        "\r\n",
        "#     next_ind = 2\r\n",
        "#     while next_ind<len(top_3) and len_pass+len_ques<=512:\r\n",
        "#       sim_sent.append(docs[top_3[next_ind]])\r\n",
        "#       len_pass = len(tokenizer.tokenize(' '.join(sim_sent)))\r\n",
        "#       next_ind+=1\r\n",
        "\r\n",
        "#     nv_phrases = extract_n_v_phrase(sim_sent)\r\n",
        "#     relations = []\r\n",
        "#     for p in nv_phrases:\r\n",
        "#         relations.extend(word_bank(p, ' '.join(sim_sent)))\r\n",
        "\r\n",
        "#     next_ind = 0\r\n",
        "#     len_pass = len(tokenizer.tokenize(' '.join(sim_sent)))\r\n",
        "\r\n",
        "#     while next_ind<len(relations) and len_pass+len_ques<=512:\r\n",
        "#       sim_sent.append(relations[next_ind])\r\n",
        "#       len_pass = len(tokenizer.tokenize(' '.join(sim_sent)))\r\n",
        "#       next_ind+=1\r\n",
        "#     sim_sent.pop()\r\n",
        "#     ques = ' '.join(sim_sent) + row['question']\r\n",
        "#     content.append(ques+'\\n')\r\n",
        "\r\n",
        "#   f = open(fname+'.txt', 'w')\r\n",
        "#   f.writelines(content)\r\n",
        "#   f.close()"
      ],
      "execution_count": null,
      "outputs": []
    },
    {
      "cell_type": "code",
      "metadata": {
        "id": "xXFEyt_sBFs-"
      },
      "source": [
        "def most_similar(doc_id,similarity_matrix,matrix,df):\r\n",
        "    if matrix=='Cosine Similarity':\r\n",
        "        similar_ix=np.argsort(similarity_matrix[doc_id])[::-1]\r\n",
        "    elif matrix=='Euclidean Distance':\r\n",
        "        similar_ix=np.argsort(similarity_matrix[doc_id])\r\n",
        "    return similar_ix[1:]\r\n",
        "def create_with_context(path, fname, num):\r\n",
        "  df = pd.read_csv(path)\r\n",
        "  content = []\r\n",
        "  for idx, row in df.iterrows():\r\n",
        "    ques = row['question']\r\n",
        "    passage = row['article']\r\n",
        "\r\n",
        "    ques = ques.replace('@placeholder', row[\"option_\"+str(row[\"label\"])])\r\n",
        "\r\n",
        "    docs = passage.split('. ')\r\n",
        "    docs.insert(0, ques)\r\n",
        "\r\n",
        "    temp_df = pd.DataFrame(docs,columns=['sentences'])\r\n",
        "    temp_df['cleaned']=temp_df.sentences.apply(lambda x: \" \".join(re.sub(r'[^a-zA-Z]',' ',w).lower() for w in x.split() if re.sub(r'[^a-zA-Z]',' ',w).lower() not in stop_words_l))\r\n",
        "    \r\n",
        "    document_embeddings = sbert_model.encode(temp_df['cleaned'])\r\n",
        "    pairwise_similarities=cosine_similarity(document_embeddings)\r\n",
        "\r\n",
        "    top_sen = most_similar(0,pairwise_similarities,'Cosine Similarity', temp_df)[:num]\r\n",
        "\r\n",
        "    sim_sent = [docs[x] for x in top_sen]\r\n",
        "    nv_phrases = extract_n_v_phrase(sim_sent)\r\n",
        "    relations = []\r\n",
        "    for p in nv_phrases:\r\n",
        "        relations.extend(word_bank(p, ' '.join(sim_sent)))\r\n",
        "    ques = ' '.join(sim_sent) + ' '.join(relations) + ques\r\n",
        "\r\n",
        "    content.append(ques+'\\n')\r\n",
        "    \r\n",
        "  f = open(fname+'.txt', 'w')\r\n",
        "  f.writelines(content)\r\n",
        "  f.close()"
      ],
      "execution_count": null,
      "outputs": []
    },
    {
      "cell_type": "code",
      "metadata": {
        "id": "e2RAtHwhtbD9"
      },
      "source": [
        "sim_sent = [\"Spain 's Marin beat Sindhu gold medal Olympic badminton singles final Rio de Janeiro  The Indian Twittersphere exploded Sindhu beat Marin 21 - 19 , 21 - 16 take India Open Super Series tournament Delhi night\"]\r\n",
        "noun_phrase = extract_n_v_phrase(sim_sent)\r\n",
        "noun_phrase"
      ],
      "execution_count": null,
      "outputs": []
    },
    {
      "cell_type": "code",
      "metadata": {
        "id": "sGD2UsMiPEtf"
      },
      "source": [
        "print(word_bank(noun_phrase, sim_sent[0]))"
      ],
      "execution_count": null,
      "outputs": []
    },
    {
      "cell_type": "code",
      "metadata": {
        "id": "bYM4RobwLBA1"
      },
      "source": [
        "path = \"/content/train_task_1_new.csv\"\r\n",
        "create_with_context(path, \"train_1\", 2)"
      ],
      "execution_count": null,
      "outputs": []
    },
    {
      "cell_type": "code",
      "metadata": {
        "id": "9KW3RP01jSe7"
      },
      "source": [
        "path = \"/content/dev_task_1.csv\"\r\n",
        "create_with_context(path, \"dev_1\", 2)"
      ],
      "execution_count": null,
      "outputs": []
    },
    {
      "cell_type": "code",
      "metadata": {
        "id": "PN4hgsAR3-sJ"
      },
      "source": [
        "!cp dev_1.txt /content/drive/My\\ Drive/\r\n",
        "# !cp train_1.txt /content/drive/My\\ Drive/"
      ],
      "execution_count": null,
      "outputs": []
    },
    {
      "cell_type": "code",
      "metadata": {
        "id": "hrKpyWr09Tbm"
      },
      "source": [
        "# !cp dev_1.txt /content/drive/My\\ Drive/\r\n",
        "!cp train_1.txt /content/drive/My\\ Drive/"
      ],
      "execution_count": null,
      "outputs": []
    },
    {
      "cell_type": "code",
      "metadata": {
        "id": "a-I7Tu5bcwa-"
      },
      "source": [
        "!python run_mlm.py --model_name_or_path bert-base-cased --train_file '/content/train1.txt' --validation_file '/content/dev1.txt' --do_train --do_eval --line_by_line --output_dir /content/drive/MyDrive/task1_concept_net"
      ],
      "execution_count": null,
      "outputs": []
    },
    {
      "cell_type": "code",
      "metadata": {
        "id": "mRN9mq0tcwtb"
      },
      "source": [
        ""
      ],
      "execution_count": null,
      "outputs": []
    },
    {
      "cell_type": "code",
      "metadata": {
        "id": "YnVbetXqcw6-"
      },
      "source": [
        ""
      ],
      "execution_count": null,
      "outputs": []
    },
    {
      "cell_type": "code",
      "metadata": {
        "id": "b869bYF6NRBE"
      },
      "source": [
        "obj = requests.get('http://api.conceptnet.io/c/en/example').json()"
      ],
      "execution_count": null,
      "outputs": []
    },
    {
      "cell_type": "code",
      "metadata": {
        "id": "evIt3-cJNRYA"
      },
      "source": [
        "obj.keys()"
      ],
      "execution_count": null,
      "outputs": []
    },
    {
      "cell_type": "code",
      "metadata": {
        "id": "tXnXraZRNRi8"
      },
      "source": [
        "obj['edges'][2]"
      ],
      "execution_count": null,
      "outputs": []
    },
    {
      "cell_type": "code",
      "metadata": {
        "id": "qJ7vcBJRNRpr"
      },
      "source": [
        "sentence = \"Ogwen Valley Mountain Rescue team , police RAF rescue helicopters took part search possible fallen walker Y Garn black white seen near Cwm Cywion gorge  Four members team climbed steep terrain rescue terrier\"\r\n",
        "doc = nlp(sentence) \r\n",
        "print(doc.ents)\r\n",
        "# for token in doc: \r\n",
        "#   print(token, token.pos_) \r\n",
        "for token in doc: \r\n",
        "  print(token, token.pos_) "
      ],
      "execution_count": null,
      "outputs": []
    },
    {
      "cell_type": "code",
      "metadata": {
        "id": "MYJKORrvNRsq"
      },
      "source": [
        ""
      ],
      "execution_count": null,
      "outputs": []
    },
    {
      "cell_type": "code",
      "metadata": {
        "id": "OU5etvaqNRvr"
      },
      "source": [
        ""
      ],
      "execution_count": null,
      "outputs": []
    },
    {
      "cell_type": "code",
      "metadata": {
        "id": "3SKcmOuINRyb"
      },
      "source": [
        ""
      ],
      "execution_count": null,
      "outputs": []
    },
    {
      "cell_type": "code",
      "metadata": {
        "id": "jdzMSvvDNR1v"
      },
      "source": [
        ""
      ],
      "execution_count": null,
      "outputs": []
    },
    {
      "cell_type": "code",
      "metadata": {
        "id": "lU98YBUUNR49"
      },
      "source": [
        ""
      ],
      "execution_count": null,
      "outputs": []
    }
  ]
}